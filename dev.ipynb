{
 "cells": [
  {
   "cell_type": "code",
   "execution_count": 2,
   "id": "d7773f0e",
   "metadata": {},
   "outputs": [],
   "source": [
    "from delphin.codecs import eds\n",
    "from delphin.eds import *\n",
    "import torch\n",
    "import json\n",
    "import sys, os"
   ]
  },
  {
   "cell_type": "code",
   "execution_count": 3,
   "id": "8a78f6f3",
   "metadata": {},
   "outputs": [],
   "source": [
    "with open('input.txt', 'r') as f:\n",
    "    test = f.read()\n"
   ]
  },
  {
   "cell_type": "code",
   "execution_count": 4,
   "id": "44ed751e",
   "metadata": {},
   "outputs": [],
   "source": [
    "test_eds = eds.loads(test)"
   ]
  },
  {
   "cell_type": "code",
   "execution_count": 5,
   "id": "13036e24",
   "metadata": {},
   "outputs": [],
   "source": [
    "test = test_eds[0]"
   ]
  },
  {
   "cell_type": "code",
   "execution_count": 6,
   "id": "0244b5d3",
   "metadata": {},
   "outputs": [
    {
     "data": {
      "text/plain": [
       "[('_1', 'BV', 'x6'),\n",
       " ('e10', 'ARG1', 'x6'),\n",
       " ('e10', 'ARG2', 'x9'),\n",
       " ('_2', 'BV', 'x9'),\n",
       " ('e17', 'ARG1', 'e16'),\n",
       " ('e17', 'ARG2', 'x15'),\n",
       " ('_3', 'BV', 'x15'),\n",
       " ('e22', 'ARG1', 'x15'),\n",
       " ('e16', 'ARG1', 'x6'),\n",
       " ('e3', 'ARG1', 'x6'),\n",
       " ('e3', 'ARG2', 'x23'),\n",
       " ('_4', 'BV', 'x23'),\n",
       " ('e29', 'ARG1', 'e3'),\n",
       " ('e29', 'ARG2', 'x30'),\n",
       " ('_5', 'BV', 'x30'),\n",
       " ('e35', 'ARG1', 'x30'),\n",
       " ('e37', 'ARG1', 'e3'),\n",
       " ('e37', 'ARG2', 'x38'),\n",
       " ('_6', 'BV', 'x38'),\n",
       " ('e45', 'ARG1', 'x38'),\n",
       " ('e45', 'ARG2', 'x40'),\n",
       " ('_7', 'BV', 'x40')]"
      ]
     },
     "execution_count": 6,
     "metadata": {},
     "output_type": "execute_result"
    }
   ],
   "source": [
    "test.edges"
   ]
  },
  {
   "cell_type": "code",
   "execution_count": 7,
   "id": "42a3db4b",
   "metadata": {},
   "outputs": [
    {
     "name": "stdout",
     "output_type": "stream",
     "text": [
      "proper_q\n",
      "compound\n",
      "proper_q\n",
      "named\n",
      "named\n",
      "measure\n",
      "udef_q\n",
      "card\n",
      "_year_n_1\n",
      "_old_a_1\n",
      "_join_v_1\n",
      "_the_q\n",
      "_board_n_of\n",
      "_as_p\n",
      "_a_q\n",
      "_nonexecutive/jj_u_unknown\n",
      "_director_n_of\n",
      "loc_nonsp\n",
      "mofy\n",
      "def_explicit_q\n",
      "of_p\n",
      "def_implicit_q\n",
      "dofm\n"
     ]
    }
   ],
   "source": [
    "for node in test.nodes:\n",
    "    print(node.predicate)"
   ]
  },
  {
   "cell_type": "code",
   "execution_count": 8,
   "id": "2cb91a3c",
   "metadata": {},
   "outputs": [],
   "source": [
    "from annotation import *\n",
    "\n",
    "alist = [line.rstrip() for line in open('1.2.2c.okay.txt')]"
   ]
  },
  {
   "cell_type": "code",
   "execution_count": 9,
   "id": "0734b00f",
   "metadata": {},
   "outputs": [],
   "source": [
    "fn_source = alist[0]"
   ]
  },
  {
   "cell_type": "code",
   "execution_count": 10,
   "id": "4bf2ad38",
   "metadata": {},
   "outputs": [
    {
     "data": {
      "text/plain": [
       "['-----',\n",
       " '0:2-ARG0=Agent;Agent',\n",
       " '7:0-ARGM-MOD',\n",
       " '8:0-rel',\n",
       " '9:1-ARG1=Patient;Part_1',\n",
       " '11:1-ARGM-PRD',\n",
       " '15:1-ARGM-TMP']"
      ]
     },
     "execution_count": 10,
     "metadata": {},
     "output_type": "execute_result"
    }
   ],
   "source": [
    "SemLinkAnnotation(alist[0]).dependencies"
   ]
  },
  {
   "cell_type": "code",
   "execution_count": 11,
   "id": "9a030840",
   "metadata": {},
   "outputs": [],
   "source": [
    "fn_source = SemLinkAnnotation(fn_source)"
   ]
  },
  {
   "cell_type": "code",
   "execution_count": 12,
   "id": "75c77f47",
   "metadata": {},
   "outputs": [
    {
     "data": {
      "text/plain": [
       "{'dep': None,\n",
       " 'source_file': 'wsj_0001.parse',\n",
       " 'sentence_no': '0',\n",
       " 'token_no': '8',\n",
       " 'verb': 'join',\n",
       " 'vn_class': '22.1-2-1',\n",
       " 'fn_frame': 'Cause_to_amalgamate',\n",
       " 'pb_roleset': 'join.01',\n",
       " 'on_group': None,\n",
       " 'dependencies': ['-----',\n",
       "  '0:2-ARG0=Agent;Agent',\n",
       "  '7:0-ARGM-MOD',\n",
       "  '8:0-rel',\n",
       "  '9:1-ARG1=Patient;Part_1',\n",
       "  '11:1-ARGM-PRD',\n",
       "  '15:1-ARGM-TMP'],\n",
       " 'instance': 'wsj_0001.parse 0 8',\n",
       " 'source': 'old sl',\n",
       " 'input_line': 'nw/wsj/00/wsj_0001.parse 0 8 gold join-v 22.1-2-1 Cause_to_amalgamate join.01 null ----- 0:2-ARG0=Agent;Agent 7:0-ARGM-MOD 8:0-rel 9:1-ARG1=Patient;Part_1 11:1-ARGM-PRD 15:1-ARGM-TMP',\n",
       " 'file_path': 'nw/wsj/00/wsj_0001.parse'}"
      ]
     },
     "execution_count": 12,
     "metadata": {},
     "output_type": "execute_result"
    }
   ],
   "source": [
    "fn_source.__dict__"
   ]
  },
  {
   "cell_type": "code",
   "execution_count": 7,
   "id": "8ec1d8dc",
   "metadata": {},
   "outputs": [],
   "source": [
    "from delphin.codecs.eds import loads\n",
    "\n",
    "def get_file_name(semi:SemLinkAnnotation):\n",
    "    file_index = semi.source_file.split('.')[0].split('_')[-1] #get file number\n",
    "    sentence_index = str(int(semi.sentence_no) + 1)\n",
    "    sentence_index = '0'*(3-len(sentence_index)) + sentence_index\n",
    "\n",
    "    return '2' + file_index + sentence_index\n",
    "\n",
    "def get_from_file(file):\n",
    "    with open(file, 'r') as f:\n",
    "        data = f.read()\n",
    "    \n",
    "    blocks = data.split('\\n\\n')\n",
    "    eds_blocks = blocks[7] #manual index\n",
    "    eds = loads(eds_blocks)[0]\n",
    "\n",
    "    sentence_blocks = blocks[1]\n",
    "    \n",
    "    sentence_start = -1\n",
    "    sentence_end = -1\n",
    "    for idx in range(len(sentence_blocks)):\n",
    "        if sentence_blocks[idx] == '`':\n",
    "            sentence_start = idx\n",
    "            break\n",
    "    \n",
    "    for idx in range(len(sentence_blocks)):\n",
    "        if sentence_blocks[idx] == \"'\":\n",
    "            sentence_end = idx\n",
    "\n",
    "    print(sentence_start, sentence_end)\n",
    "    return sentence_blocks[sentence_start+1:sentence_end], eds_blocks, eds"
   ]
  },
  {
   "cell_type": "code",
   "execution_count": 15,
   "id": "12d0e220",
   "metadata": {},
   "outputs": [
    {
     "name": "stdout",
     "output_type": "stream",
     "text": [
      "24 109\n"
     ]
    }
   ],
   "source": [
    "sent, eds_text, test_eds = get_from_file(get_file_name(fn_source))"
   ]
  },
  {
   "cell_type": "code",
   "execution_count": 16,
   "id": "8efd58a5",
   "metadata": {},
   "outputs": [],
   "source": [
    "def get_verb_nodes(eds:EDS):\n",
    "    return [x for x in eds.nodes if '_v_' in x.predicate]\n",
    "\n",
    "def get_node(eds:EDS, node_id):\n",
    "    for x in eds.nodes:\n",
    "        if x.id == node_id:\n",
    "            return x\n",
    "    raise Warning('No node has id {}'.format(node_id))"
   ]
  },
  {
   "cell_type": "code",
   "execution_count": 17,
   "id": "a3a82835",
   "metadata": {},
   "outputs": [
    {
     "data": {
      "text/plain": [
       "[<Node object (e3:_join_v_1<34:38>[e]) at 1652564690528>]"
      ]
     },
     "execution_count": 17,
     "metadata": {},
     "output_type": "execute_result"
    }
   ],
   "source": [
    "get_verb_nodes(test_eds)"
   ]
  },
  {
   "cell_type": "code",
   "execution_count": 18,
   "id": "915b56e2",
   "metadata": {},
   "outputs": [],
   "source": [
    "from nltk.tokenize.treebank import *\n",
    "from copy import deepcopy\n",
    "\n",
    "tokenizer = TreebankWordTokenizer()\n",
    "detokenizer = TreebankWordDetokenizer()\n",
    "tokens = tokenizer.tokenize('A form of asbestos once used to make Kent cigarette filters has caused a high percentage of cancer deaths among a group of workers exposed to it more than 30 years ago, researchers reported.')"
   ]
  },
  {
   "cell_type": "code",
   "execution_count": 19,
   "id": "4452dc32",
   "metadata": {},
   "outputs": [
    {
     "data": {
      "text/plain": [
       "['A',\n",
       " 'form',\n",
       " 'of',\n",
       " 'asbestos',\n",
       " 'once',\n",
       " 'used',\n",
       " 'to',\n",
       " 'make',\n",
       " 'Kent',\n",
       " 'cigarette',\n",
       " 'filters',\n",
       " 'has',\n",
       " 'caused',\n",
       " 'a',\n",
       " 'high',\n",
       " 'percentage',\n",
       " 'of',\n",
       " 'cancer',\n",
       " 'deaths',\n",
       " 'among',\n",
       " 'a',\n",
       " 'group',\n",
       " 'of',\n",
       " 'workers',\n",
       " 'exposed',\n",
       " 'to',\n",
       " 'it',\n",
       " 'more',\n",
       " 'than',\n",
       " '30',\n",
       " 'years',\n",
       " 'ago',\n",
       " ',',\n",
       " 'researchers',\n",
       " 'reported',\n",
       " '.']"
      ]
     },
     "execution_count": 19,
     "metadata": {},
     "output_type": "execute_result"
    }
   ],
   "source": [
    "tokens"
   ]
  },
  {
   "cell_type": "code",
   "execution_count": 20,
   "id": "2474df00",
   "metadata": {},
   "outputs": [],
   "source": [
    "verb = get_verb_nodes(test_eds)[0]\n",
    "start, end = verb.lnk.data"
   ]
  },
  {
   "cell_type": "code",
   "execution_count": 21,
   "id": "fb744050",
   "metadata": {},
   "outputs": [
    {
     "data": {
      "text/plain": [
       "['join']"
      ]
     },
     "execution_count": 21,
     "metadata": {},
     "output_type": "execute_result"
    }
   ],
   "source": [
    "tokenizer.tokenize(sent[start:end])"
   ]
  },
  {
   "cell_type": "code",
   "execution_count": 22,
   "id": "e6e10bb6",
   "metadata": {},
   "outputs": [
    {
     "data": {
      "text/plain": [
       "dict_keys(['ARG1', 'ARG2'])"
      ]
     },
     "execution_count": 22,
     "metadata": {},
     "output_type": "execute_result"
    }
   ],
   "source": [
    "verb.edges.keys()"
   ]
  },
  {
   "cell_type": "code",
   "execution_count": 23,
   "id": "6b25ee42",
   "metadata": {},
   "outputs": [
    {
     "data": {
      "text/plain": [
       "<Node object (x23:_board_n_of<43:48>[x]) at 1652564690752>"
      ]
     },
     "execution_count": 23,
     "metadata": {},
     "output_type": "execute_result"
    }
   ],
   "source": [
    "get_node(test_eds, 'x23')\n"
   ]
  },
  {
   "cell_type": "code",
   "execution_count": 24,
   "id": "8eca39e5",
   "metadata": {},
   "outputs": [
    {
     "data": {
      "text/plain": [
       "'board'"
      ]
     },
     "execution_count": 24,
     "metadata": {},
     "output_type": "execute_result"
    }
   ],
   "source": [
    "sent[43:48]"
   ]
  },
  {
   "cell_type": "code",
   "execution_count": 30,
   "id": "72c74b21",
   "metadata": {},
   "outputs": [
    {
     "data": {
      "text/plain": [
       "'Pierre Vinken, 61 years old, will join the board as a nonexecutive director Nov. 29.'"
      ]
     },
     "execution_count": 30,
     "metadata": {},
     "output_type": "execute_result"
    }
   ],
   "source": [
    "sent"
   ]
  },
  {
   "cell_type": "code",
   "execution_count": 31,
   "id": "bd514986",
   "metadata": {},
   "outputs": [
    {
     "data": {
      "text/plain": [
       "1"
      ]
     },
     "execution_count": 31,
     "metadata": {},
     "output_type": "execute_result"
    }
   ],
   "source": [
    "padding_token = '略'\n",
    "len(padding_token)"
   ]
  },
  {
   "cell_type": "code",
   "execution_count": 32,
   "id": "a776f9be",
   "metadata": {},
   "outputs": [],
   "source": [
    "def iterative_levenshtein(s, t, costs=(1, 1, 1)):\n",
    "    \"\"\" \n",
    "        iterative_levenshtein(s, t) -> ldist\n",
    "        ldist is the Levenshtein distance between the strings \n",
    "        s and t.\n",
    "        For all i and j, dist[i,j] will contain the Levenshtein \n",
    "        distance between the first i characters of s and the \n",
    "        first j characters of t\n",
    "        \n",
    "        costs: a tuple or a list with three integers (d, i, s)\n",
    "               where d defines the costs for a deletion\n",
    "                     i defines the costs for an insertion and\n",
    "                     s defines the costs for a substitution\n",
    "    \"\"\"\n",
    "\n",
    "    rows = len(s)+1\n",
    "    cols = len(t)+1\n",
    "    deletes, inserts, substitutes = costs\n",
    "    \n",
    "    dist = [[0 for x in range(cols)] for x in range(rows)]\n",
    "\n",
    "    # source prefixes can be transformed into empty strings \n",
    "    # by deletions:\n",
    "    for row in range(1, rows):\n",
    "        dist[row][0] = row * deletes\n",
    "\n",
    "    # target prefixes can be created from an empty source string\n",
    "    # by inserting the characters\n",
    "    for col in range(1, cols):\n",
    "        dist[0][col] = col * inserts\n",
    "        \n",
    "    for col in range(1, cols):\n",
    "        for row in range(1, rows):\n",
    "            if s[row-1] == t[col-1]:\n",
    "                cost = 0\n",
    "            else:\n",
    "                cost = substitutes\n",
    "            dist[row][col] = min(dist[row-1][col] + deletes,\n",
    "                                 dist[row][col-1] + inserts,\n",
    "                                 dist[row-1][col-1] + cost) # substitution\n",
    "\n",
    "    # for r in range(rows):\n",
    "    #     print(dist[r])\n",
    "    \n",
    "    return dist[row][col]"
   ]
  },
  {
   "cell_type": "code",
   "execution_count": 27,
   "id": "084fe75f",
   "metadata": {},
   "outputs": [],
   "source": [
    "from utils import *\n",
    "from nltk.metrics.distance import edit_distance\n",
    "def update_graph(sentence, eds:EDS, semlink:SemLinkAnnotation):\n",
    "    tokens = tokenize(semlink)\n",
    "    token_idx = int(semlink.token_no)\n",
    "    target_verb = tokens[token_idx]\n",
    "    begin_idx = len(detokenize(tokens[:token_idx]))\n",
    "    end_idx = len(detokenize(tokens[:token_idx+1]))\n",
    "    candidate_verb_nodes = get_verb_nodes(eds)\n",
    "    \n",
    "    source_verb_node = None\n",
    "    #update predicate structure\n",
    "    for verb_node in candidate_verb_nodes:\n",
    "        s,e = verb_node.lnk.data\n",
    "        # print(s,e)\n",
    "        idx_pairs = sorted([(s,e), (begin_idx, end_idx)], key= lambda x : x[0])\n",
    "\n",
    "        if idx_pairs[0][1] > idx_pairs[1][0]:\n",
    "            #overlap confirmed\n",
    "            source_verb_node = verb_node\n",
    "    \n",
    "    # print(begin_idx, end_idx)\n",
    "    # print(source_verb_node)\n",
    "    if source_verb_node == None:\n",
    "        print(target_verb)\n",
    "        print(sentence)\n",
    "        raise Exception('empty verb???')\n",
    "    updated_predicate = source_verb_node.predicate + '-fn.' + semlink.fn_frame\n",
    "\n",
    "    #update edge roles\n",
    "    target_dependencies = [x for x in semlink.dependencies if ';' in x]\n",
    "    arg_assosicated_strings = get_children_strings(sentence, eds, source_verb_node)\n",
    "\n",
    "    source_verb_edges_dict = deepcopy(source_verb_node.edges)\n",
    "    for dependency in target_dependencies:\n",
    "        token_intervals = dependency.split('-')[0].split('*')\n",
    "        concate_string = \"\"\n",
    "        for interval in token_intervals:\n",
    "            start_token_idx = int(interval.split(':')[0])\n",
    "            end_token_idx = start_token_idx + int(interval.split(':')[1]) + 1\n",
    "            concate_string += detokenize(tokens[start_token_idx : end_token_idx])\n",
    "        \n",
    "        fn_role = dependency.split(';')[-1]\n",
    "\n",
    "        target_child_node = None\n",
    "\n",
    "        max_len = 0\n",
    "        for key in arg_assosicated_strings:\n",
    "            if len(arg_assosicated_strings[key]) > max_len:\n",
    "                max_len = len(arg_assosicated_strings[key])\n",
    "        \n",
    "        for key in arg_assosicated_strings:\n",
    "            arg_assosicated_strings[key] += '='*(max_len - len(arg_assosicated_strings[key]))\n",
    "\n",
    "        edit_distances = sorted([(key, edit_distance(concate_string, arg_assosicated_strings[key])) for key in arg_assosicated_strings.keys()], key= lambda x : x[1])\n",
    "        old_key = edit_distances[0][0]\n",
    "        new_key = old_key + '-fn.' + fn_role\n",
    "        arg_assosicated_strings.pop(old_key)\n",
    "        source_verb_edges_dict[new_key] = source_verb_edges_dict.pop(old_key)\n",
    "        print(new_key)\n",
    "    \n",
    "    return source_verb_node.id, updated_predicate, source_verb_edges_dict"
   ]
  },
  {
   "cell_type": "code",
   "execution_count": null,
   "id": "2c2a05c9",
   "metadata": {},
   "outputs": [],
   "source": []
  },
  {
   "cell_type": "code",
   "execution_count": 34,
   "id": "f9903f3e",
   "metadata": {},
   "outputs": [
    {
     "data": {
      "text/plain": [
       "'e3newtext34:38>{e SF prop, TENSE fut, MOOD indicative, PROG -, PERF -}[ARG1 x6, ARG2 x23]'"
      ]
     },
     "execution_count": 34,
     "metadata": {},
     "output_type": "execute_result"
    }
   ],
   "source": [
    "import re\n",
    "with open('20001001','r') as f:\n",
    "    data = f.read().split('\\n\\n')\n",
    "reg = r':.*?<' \n",
    "a = data[7].split('\\n ')[11]\n",
    "re.sub(reg, 'newtext', a)"
   ]
  },
  {
   "cell_type": "code",
   "execution_count": 1,
   "id": "2dcfbb2a",
   "metadata": {},
   "outputs": [],
   "source": [
    "class sentence_eds():\n",
    "    def __init__(self, filename):\n",
    "        self.sentence, self.eds_text, self.eds = get_from_file(filename)\n",
    "        self.predicate_reg = r':.*?<'\n",
    "        self.edge_reg = r'\\[.*?\\]'\n",
    "        self.filename = filename\n",
    "\n",
    "    def update_text(self, id, new_predicate, new_edges):\n",
    "        self.eds_lines = self.eds_text.split('\\n ')\n",
    "        for line_idx in range(len(self.eds_lines)):\n",
    "            line = self.eds_lines[line_idx]\n",
    "            if line[:len(id)] == id:\n",
    "                update_predicate = re.sub(self.predicate_reg, ':' + new_predicate + '<', line)\n",
    "                \n",
    "                edges_strings = []\n",
    "                for key in new_edges.keys():\n",
    "                    edges_strings.append(key + ' ' + new_edges[key])\n",
    "                update_edges = re.sub(self.edge_reg, '[' + ', '.join(edges_strings) + ']', update_predicate)\n",
    "\n",
    "                self.eds_lines[line_idx] = update_edges\n",
    "\n",
    "                self.eds_text = '\\n '.join(self.eds_lines)\n",
    "                self.eds = eds.loads(self.eds_text)[0]\n",
    "                break\n",
    "    \n",
    "    def save_to_path(self, path=''):\n",
    "        with open(os.path.join(path, self.filename + '_projected'), 'w') as f:\n",
    "            f.write(self.eds_text)"
   ]
  },
  {
   "cell_type": "code",
   "execution_count": 20,
   "id": "4d66c53c",
   "metadata": {},
   "outputs": [],
   "source": [
    "sent, eds_block, eds = get_from_file('deepbank_raw/20003003')\n",
    "semlink = SemLinkAnnotation('nw/wsj/00/wsj_0003.parse 2 14 gold make-v 26.1-1 Manufacturing make.01 null ----- 3:2*12:1*13:1-ARG0=Agent;Manufacturer 14:0-rel 15:1-ARG1=Product;Product 3:2*12:1-LINK-SLC ')"
   ]
  },
  {
   "cell_type": "code",
   "execution_count": 28,
   "id": "43ed1356",
   "metadata": {},
   "outputs": [
    {
     "name": "stdout",
     "output_type": "stream",
     "text": [
      "ARG1-fn.Manufacturer\n",
      "ARG2-fn.Product\n"
     ]
    },
    {
     "data": {
      "text/plain": [
       "('e49',\n",
       " '_make_v_1-fn.Manufacturing',\n",
       " {'ARG1-fn.Manufacturer': 'x5', 'ARG2-fn.Product': 'x50'})"
      ]
     },
     "execution_count": 28,
     "metadata": {},
     "output_type": "execute_result"
    }
   ],
   "source": [
    "update_graph(sent, eds, semlink)"
   ]
  },
  {
   "cell_type": "code",
   "execution_count": 31,
   "id": "243e2d75",
   "metadata": {},
   "outputs": [
    {
     "data": {
      "text/plain": [
       "<Node object (x50:_cigarette_n_1<71:82>[x]) at 2338670611584>"
      ]
     },
     "execution_count": 31,
     "metadata": {},
     "output_type": "execute_result"
    }
   ],
   "source": [
    "get_node(eds, 'x50')"
   ]
  },
  {
   "cell_type": "code",
   "execution_count": 30,
   "id": "47ba14af",
   "metadata": {},
   "outputs": [
    {
     "data": {
      "text/plain": [
       "'Lorillard Inc., the unit of New York-based Loews Corp. that makes Kent cigarettes, stopped using crocidolite in its Micronite cigarette filters in 1956.'"
      ]
     },
     "execution_count": 30,
     "metadata": {},
     "output_type": "execute_result"
    }
   ],
   "source": [
    "sent"
   ]
  },
  {
   "cell_type": "code",
   "execution_count": 10,
   "id": "ae8bd4a4",
   "metadata": {},
   "outputs": [],
   "source": [
    "from copy import deepcopy"
   ]
  },
  {
   "cell_type": "code",
   "execution_count": 39,
   "id": "e0fd9a22",
   "metadata": {},
   "outputs": [
    {
     "name": "stdout",
     "output_type": "stream",
     "text": [
      "34 38\n",
      "33 38\n",
      "<Node object (e3:_join_v_1<34:38>[e]) at 1652592547872>\n",
      "0:2-ARG0=Agent;Agent\n",
      "7 14\n",
      "0 14\n",
      "ARG1-fn.Agent\n",
      "9:1-ARG1=Patient;Part_1\n",
      "43 48\n",
      "38 48\n",
      "ARG2-fn.Part_1\n"
     ]
    }
   ],
   "source": [
    "new_id, new_pred, new_edges = update_graph(sent, deepcopy(test_eds), fn_source)"
   ]
  },
  {
   "cell_type": "code",
   "execution_count": 40,
   "id": "14a16b78",
   "metadata": {},
   "outputs": [
    {
     "data": {
      "text/plain": [
       "'{e3:\\n _1:proper_q<0:28>[BV x6]\\n e10:compound<0:14>{e SF prop, TENSE untensed, MOOD indicative, PROG -, PERF -}[ARG1 x6, ARG2 x9]\\n _2:proper_q<0:6>[BV x9]\\n x9:named<0:6>(\"Pierre\"){x PERS 3, NUM sg, IND +}[]\\n x6:named<7:14>(\"Vinken\"){x PERS 3, NUM sg, IND +}[]\\n e17:measure<15:23>{e SF prop, TENSE untensed, MOOD indicative, PROG -, PERF -}[ARG1 e16, ARG2 x15]\\n _3:udef_q<15:23>[BV x15]\\n e22:card<15:17>(\"61\"){e SF prop, TENSE untensed, MOOD indicative, PROG -, PERF -}[ARG1 x15]\\n x15:_year_n_1<18:23>{x PERS 3, NUM pl, IND +}[]\\n e16:_old_a_1<24:28>{e SF prop, TENSE untensed, MOOD indicative, PROG -, PERF -}[ARG1 x6]\\n e3:_join_v_1-fn.Cause_to_amalgamate<34:38>{e SF prop, TENSE fut, MOOD indicative, PROG -, PERF -}[ARG1-fn.Agent x6, ARG2-fn.Part_1 x23]\\n _4:_the_q<39:42>[BV x23]\\n x23:_board_n_of<43:48>{x PERS 3, NUM sg}[]\\n e29:_as_p<49:51>{e SF prop, TENSE untensed, MOOD indicative, PROG -, PERF -}[ARG1 e3, ARG2 x30]\\n _5:_a_q<52:53>[BV x30]\\n e35:_nonexecutive/jj_u_unknown<54:66>{e SF prop, TENSE untensed, MOOD indicative, PROG -, PERF -}[ARG1 x30]\\n x30:_director_n_of<67:75>{x PERS 3, NUM sg, IND +}[]\\n e37:loc_nonsp<76:84>{e SF prop, TENSE untensed, MOOD indicative, PROG -, PERF -}[ARG1 e3, ARG2 x38]\\n x40:mofy<76:80>(\"Nov\"){x PERS 3, NUM sg, IND +}[]\\n _6:def_explicit_q<76:80>[BV x38]\\n e45:of_p<76:80>{e SF prop, TENSE untensed, MOOD indicative, PROG -, PERF -}[ARG1 x38, ARG2 x40]\\n _7:def_implicit_q<76:80>[BV x40]\\n x38:dofm<81:84>(\"29\"){x PERS 3, NUM sg, GEND n, IND +}[]\\n}'"
      ]
     },
     "execution_count": 40,
     "metadata": {},
     "output_type": "execute_result"
    }
   ],
   "source": [
    "test_sent_eds.update_text(new_id, new_pred, new_edges)\n",
    "test_sent_eds.eds_text"
   ]
  },
  {
   "cell_type": "code",
   "execution_count": 43,
   "id": "bedbb03d",
   "metadata": {},
   "outputs": [],
   "source": [
    "import graphviz\n",
    "def eds2graph(eds:EDS):\n",
    "    g = graphviz.Digraph()\n",
    "    for node in eds.nodes:\n",
    "        if '-fn.' in node.predicate:\n",
    "            g.node(node.id, label=node.predicate, color = 'red', fontcolor = 'red')\n",
    "        else:\n",
    "            g.node(node.id, label=node.predicate)\n",
    "        for key in node.edges:\n",
    "            if '-FN.' in key:\n",
    "                g.edge(node.id, node.edges[key], label=key, color ='blue', fontcolor = 'blue')\n",
    "            else:\n",
    "                g.edge(node.id, node.edges[key], label=key)\n",
    "        \n",
    "    return g"
   ]
  },
  {
   "cell_type": "code",
   "execution_count": 44,
   "id": "82d386c0",
   "metadata": {},
   "outputs": [],
   "source": [
    "g1 = eds2graph(test_eds)"
   ]
  },
  {
   "cell_type": "code",
   "execution_count": 45,
   "id": "ebbbf8e3",
   "metadata": {},
   "outputs": [
    {
     "data": {
      "image/svg+xml": "<?xml version=\"1.0\" encoding=\"UTF-8\" standalone=\"no\"?>\n<!DOCTYPE svg PUBLIC \"-//W3C//DTD SVG 1.1//EN\"\n \"http://www.w3.org/Graphics/SVG/1.1/DTD/svg11.dtd\">\n<!-- Generated by graphviz version 2.50.0 (0)\n -->\n<!-- Pages: 1 -->\n<svg width=\"1397pt\" height=\"218pt\"\n viewBox=\"0.00 0.00 1397.29 218.00\" xmlns=\"http://www.w3.org/2000/svg\" xmlns:xlink=\"http://www.w3.org/1999/xlink\">\n<g id=\"graph0\" class=\"graph\" transform=\"scale(1 1) rotate(0) translate(4 214)\">\n<polygon fill=\"white\" stroke=\"transparent\" points=\"-4,4 -4,-214 1393.29,-214 1393.29,4 -4,4\"/>\n<!-- _1 -->\n<g id=\"node1\" class=\"node\">\n<title>_1</title>\n<ellipse fill=\"none\" stroke=\"black\" cx=\"42.25\" cy=\"-105\" rx=\"42.49\" ry=\"18\"/>\n<text text-anchor=\"middle\" x=\"42.25\" y=\"-101.3\" font-family=\"Times New Roman,serif\" font-size=\"14.00\">proper_q</text>\n</g>\n<!-- x6 -->\n<g id=\"node2\" class=\"node\">\n<title>x6</title>\n<ellipse fill=\"none\" stroke=\"black\" cx=\"287.25\" cy=\"-18\" rx=\"34.39\" ry=\"18\"/>\n<text text-anchor=\"middle\" x=\"287.25\" y=\"-14.3\" font-family=\"Times New Roman,serif\" font-size=\"14.00\">named</text>\n</g>\n<!-- _1&#45;&gt;x6 -->\n<g id=\"edge1\" class=\"edge\">\n<title>_1&#45;&gt;x6</title>\n<path fill=\"none\" stroke=\"black\" d=\"M74.28,-92.89C119.44,-77.22 201.69,-48.68 249.68,-32.03\"/>\n<polygon fill=\"black\" stroke=\"black\" points=\"251.08,-35.25 259.38,-28.67 248.78,-28.64 251.08,-35.25\"/>\n<text text-anchor=\"middle\" x=\"189.75\" y=\"-57.8\" font-family=\"Times New Roman,serif\" font-size=\"14.00\">BV</text>\n</g>\n<!-- e10 -->\n<g id=\"node3\" class=\"node\">\n<title>e10</title>\n<ellipse fill=\"none\" stroke=\"black\" cx=\"573.25\" cy=\"-105\" rx=\"48.19\" ry=\"18\"/>\n<text text-anchor=\"middle\" x=\"573.25\" y=\"-101.3\" font-family=\"Times New Roman,serif\" font-size=\"14.00\">compound</text>\n</g>\n<!-- e10&#45;&gt;x6 -->\n<g id=\"edge2\" class=\"edge\">\n<title>e10&#45;&gt;x6</title>\n<path fill=\"none\" stroke=\"black\" d=\"M537.17,-92.95C529.94,-90.87 522.37,-88.79 515.25,-87 477.37,-77.5 464.62,-85.54 429.25,-69 419.5,-64.44 419.93,-58.7 410.25,-54 379.41,-39.03 368.11,-45.74 335.25,-36 331.64,-34.93 327.91,-33.75 324.2,-32.52\"/>\n<polygon fill=\"black\" stroke=\"black\" points=\"325.09,-29.13 314.5,-29.21 322.83,-35.75 325.09,-29.13\"/>\n<text text-anchor=\"middle\" x=\"447.25\" y=\"-57.8\" font-family=\"Times New Roman,serif\" font-size=\"14.00\">ARG1</text>\n</g>\n<!-- x9 -->\n<g id=\"node4\" class=\"node\">\n<title>x9</title>\n<ellipse fill=\"none\" stroke=\"black\" cx=\"639.25\" cy=\"-18\" rx=\"34.39\" ry=\"18\"/>\n<text text-anchor=\"middle\" x=\"639.25\" y=\"-14.3\" font-family=\"Times New Roman,serif\" font-size=\"14.00\">named</text>\n</g>\n<!-- e10&#45;&gt;x9 -->\n<g id=\"edge3\" class=\"edge\">\n<title>e10&#45;&gt;x9</title>\n<path fill=\"none\" stroke=\"black\" d=\"M585.97,-87.61C595.8,-74.95 609.56,-57.24 620.63,-42.98\"/>\n<polygon fill=\"black\" stroke=\"black\" points=\"623.42,-45.1 626.78,-35.05 617.89,-40.8 623.42,-45.1\"/>\n<text text-anchor=\"middle\" x=\"628.25\" y=\"-57.8\" font-family=\"Times New Roman,serif\" font-size=\"14.00\">ARG2</text>\n</g>\n<!-- _2 -->\n<g id=\"node5\" class=\"node\">\n<title>_2</title>\n<ellipse fill=\"none\" stroke=\"black\" cx=\"681.25\" cy=\"-105\" rx=\"42.49\" ry=\"18\"/>\n<text text-anchor=\"middle\" x=\"681.25\" y=\"-101.3\" font-family=\"Times New Roman,serif\" font-size=\"14.00\">proper_q</text>\n</g>\n<!-- _2&#45;&gt;x9 -->\n<g id=\"edge4\" class=\"edge\">\n<title>_2&#45;&gt;x9</title>\n<path fill=\"none\" stroke=\"black\" d=\"M672.95,-87.21C666.97,-75.1 658.78,-58.53 651.97,-44.76\"/>\n<polygon fill=\"black\" stroke=\"black\" points=\"655.09,-43.17 647.53,-35.76 648.82,-46.27 655.09,-43.17\"/>\n<text text-anchor=\"middle\" x=\"672.75\" y=\"-57.8\" font-family=\"Times New Roman,serif\" font-size=\"14.00\">BV</text>\n</g>\n<!-- e17 -->\n<g id=\"node6\" class=\"node\">\n<title>e17</title>\n<ellipse fill=\"none\" stroke=\"black\" cx=\"251.25\" cy=\"-192\" rx=\"40.09\" ry=\"18\"/>\n<text text-anchor=\"middle\" x=\"251.25\" y=\"-188.3\" font-family=\"Times New Roman,serif\" font-size=\"14.00\">measure</text>\n</g>\n<!-- e16 -->\n<g id=\"node7\" class=\"node\">\n<title>e16</title>\n<ellipse fill=\"none\" stroke=\"black\" cx=\"260.25\" cy=\"-105\" rx=\"43.59\" ry=\"18\"/>\n<text text-anchor=\"middle\" x=\"260.25\" y=\"-101.3\" font-family=\"Times New Roman,serif\" font-size=\"14.00\">_old_a_1</text>\n</g>\n<!-- e17&#45;&gt;e16 -->\n<g id=\"edge5\" class=\"edge\">\n<title>e17&#45;&gt;e16</title>\n<path fill=\"none\" stroke=\"black\" d=\"M253.07,-173.8C254.3,-162.16 255.95,-146.55 257.36,-133.24\"/>\n<polygon fill=\"black\" stroke=\"black\" points=\"260.86,-133.49 258.43,-123.18 253.89,-132.75 260.86,-133.49\"/>\n<text text-anchor=\"middle\" x=\"275.25\" y=\"-144.8\" font-family=\"Times New Roman,serif\" font-size=\"14.00\">ARG1</text>\n</g>\n<!-- x15 -->\n<g id=\"node8\" class=\"node\">\n<title>x15</title>\n<ellipse fill=\"none\" stroke=\"black\" cx=\"150.25\" cy=\"-105\" rx=\"48.19\" ry=\"18\"/>\n<text text-anchor=\"middle\" x=\"150.25\" y=\"-101.3\" font-family=\"Times New Roman,serif\" font-size=\"14.00\">_year_n_1</text>\n</g>\n<!-- e17&#45;&gt;x15 -->\n<g id=\"edge6\" class=\"edge\">\n<title>e17&#45;&gt;x15</title>\n<path fill=\"none\" stroke=\"black\" d=\"M233.19,-175.8C217.44,-162.55 194.4,-143.16 176.6,-128.18\"/>\n<polygon fill=\"black\" stroke=\"black\" points=\"178.73,-125.4 168.83,-121.64 174.23,-130.76 178.73,-125.4\"/>\n<text text-anchor=\"middle\" x=\"225.25\" y=\"-144.8\" font-family=\"Times New Roman,serif\" font-size=\"14.00\">ARG2</text>\n</g>\n<!-- e16&#45;&gt;x6 -->\n<g id=\"edge9\" class=\"edge\">\n<title>e16&#45;&gt;x6</title>\n<path fill=\"none\" stroke=\"black\" d=\"M255.28,-86.82C253.29,-76.92 252.29,-64.42 256.25,-54 257.91,-49.61 260.4,-45.42 263.27,-41.56\"/>\n<polygon fill=\"black\" stroke=\"black\" points=\"266.14,-43.58 269.95,-33.7 260.81,-39.05 266.14,-43.58\"/>\n<text text-anchor=\"middle\" x=\"274.25\" y=\"-57.8\" font-family=\"Times New Roman,serif\" font-size=\"14.00\">ARG1</text>\n</g>\n<!-- _3 -->\n<g id=\"node9\" class=\"node\">\n<title>_3</title>\n<ellipse fill=\"none\" stroke=\"black\" cx=\"152.25\" cy=\"-192\" rx=\"35.19\" ry=\"18\"/>\n<text text-anchor=\"middle\" x=\"152.25\" y=\"-188.3\" font-family=\"Times New Roman,serif\" font-size=\"14.00\">udef_q</text>\n</g>\n<!-- _3&#45;&gt;x15 -->\n<g id=\"edge7\" class=\"edge\">\n<title>_3&#45;&gt;x15</title>\n<path fill=\"none\" stroke=\"black\" d=\"M151.84,-173.8C151.57,-162.16 151.2,-146.55 150.89,-133.24\"/>\n<polygon fill=\"black\" stroke=\"black\" points=\"154.38,-133.09 150.65,-123.18 147.39,-133.26 154.38,-133.09\"/>\n<text text-anchor=\"middle\" x=\"161.75\" y=\"-144.8\" font-family=\"Times New Roman,serif\" font-size=\"14.00\">BV</text>\n</g>\n<!-- e22 -->\n<g id=\"node10\" class=\"node\">\n<title>e22</title>\n<ellipse fill=\"none\" stroke=\"black\" cx=\"72.25\" cy=\"-192\" rx=\"27\" ry=\"18\"/>\n<text text-anchor=\"middle\" x=\"72.25\" y=\"-188.3\" font-family=\"Times New Roman,serif\" font-size=\"14.00\">card</text>\n</g>\n<!-- e22&#45;&gt;x15 -->\n<g id=\"edge8\" class=\"edge\">\n<title>e22&#45;&gt;x15</title>\n<path fill=\"none\" stroke=\"black\" d=\"M83.52,-175.1C90.97,-164.98 101.18,-151.78 111.25,-141 115.13,-136.84 119.44,-132.63 123.73,-128.64\"/>\n<polygon fill=\"black\" stroke=\"black\" points=\"126.29,-131.04 131.36,-121.74 121.6,-125.85 126.29,-131.04\"/>\n<text text-anchor=\"middle\" x=\"129.25\" y=\"-144.8\" font-family=\"Times New Roman,serif\" font-size=\"14.00\">ARG1</text>\n</g>\n<!-- e3 -->\n<g id=\"node11\" class=\"node\">\n<title>e3</title>\n<ellipse fill=\"none\" stroke=\"black\" cx=\"373.25\" cy=\"-105\" rx=\"46.29\" ry=\"18\"/>\n<text text-anchor=\"middle\" x=\"373.25\" y=\"-101.3\" font-family=\"Times New Roman,serif\" font-size=\"14.00\">_join_v_1</text>\n</g>\n<!-- e3&#45;&gt;x6 -->\n<g id=\"edge10\" class=\"edge\">\n<title>e3&#45;&gt;x6</title>\n<path fill=\"none\" stroke=\"black\" d=\"M353.47,-88.57C346.26,-82.68 338.18,-75.75 331.25,-69 322.83,-60.81 314.17,-51.25 306.78,-42.7\"/>\n<polygon fill=\"black\" stroke=\"black\" points=\"309.28,-40.23 300.14,-34.88 303.95,-44.77 309.28,-40.23\"/>\n<text text-anchor=\"middle\" x=\"349.25\" y=\"-57.8\" font-family=\"Times New Roman,serif\" font-size=\"14.00\">ARG1</text>\n</g>\n<!-- x23 -->\n<g id=\"node12\" class=\"node\">\n<title>x23</title>\n<ellipse fill=\"none\" stroke=\"black\" cx=\"400.25\" cy=\"-18\" rx=\"55.79\" ry=\"18\"/>\n<text text-anchor=\"middle\" x=\"400.25\" y=\"-14.3\" font-family=\"Times New Roman,serif\" font-size=\"14.00\">_board_n_of</text>\n</g>\n<!-- e3&#45;&gt;x23 -->\n<g id=\"edge11\" class=\"edge\">\n<title>e3&#45;&gt;x23</title>\n<path fill=\"none\" stroke=\"black\" d=\"M371.05,-86.89C370.4,-77.02 370.65,-64.52 374.25,-54 375.41,-50.6 377.03,-47.26 378.91,-44.07\"/>\n<polygon fill=\"black\" stroke=\"black\" points=\"381.96,-45.81 384.68,-35.58 376.17,-41.88 381.96,-45.81\"/>\n<text text-anchor=\"middle\" x=\"392.25\" y=\"-57.8\" font-family=\"Times New Roman,serif\" font-size=\"14.00\">ARG2</text>\n</g>\n<!-- _4 -->\n<g id=\"node13\" class=\"node\">\n<title>_4</title>\n<ellipse fill=\"none\" stroke=\"black\" cx=\"472.25\" cy=\"-105\" rx=\"34.39\" ry=\"18\"/>\n<text text-anchor=\"middle\" x=\"472.25\" y=\"-101.3\" font-family=\"Times New Roman,serif\" font-size=\"14.00\">_the_q</text>\n</g>\n<!-- _4&#45;&gt;x23 -->\n<g id=\"edge12\" class=\"edge\">\n<title>_4&#45;&gt;x23</title>\n<path fill=\"none\" stroke=\"black\" d=\"M475.25,-86.93C476.14,-76.59 475.54,-63.6 469.25,-54 464.27,-46.41 457.11,-40.39 449.27,-35.64\"/>\n<polygon fill=\"black\" stroke=\"black\" points=\"450.68,-32.42 440.21,-30.8 447.38,-38.6 450.68,-32.42\"/>\n<text text-anchor=\"middle\" x=\"484.75\" y=\"-57.8\" font-family=\"Times New Roman,serif\" font-size=\"14.00\">BV</text>\n</g>\n<!-- e29 -->\n<g id=\"node14\" class=\"node\">\n<title>e29</title>\n<ellipse fill=\"none\" stroke=\"black\" cx=\"498.25\" cy=\"-192\" rx=\"31.4\" ry=\"18\"/>\n<text text-anchor=\"middle\" x=\"498.25\" y=\"-188.3\" font-family=\"Times New Roman,serif\" font-size=\"14.00\">_as_p</text>\n</g>\n<!-- e29&#45;&gt;e3 -->\n<g id=\"edge13\" class=\"edge\">\n<title>e29&#45;&gt;e3</title>\n<path fill=\"none\" stroke=\"black\" d=\"M478.72,-177.72C458.62,-164.06 427.05,-142.58 403.68,-126.69\"/>\n<polygon fill=\"black\" stroke=\"black\" points=\"405.4,-123.63 395.16,-120.9 401.46,-129.42 405.4,-123.63\"/>\n<text text-anchor=\"middle\" x=\"461.25\" y=\"-144.8\" font-family=\"Times New Roman,serif\" font-size=\"14.00\">ARG1</text>\n</g>\n<!-- x30 -->\n<g id=\"node15\" class=\"node\">\n<title>x30</title>\n<ellipse fill=\"none\" stroke=\"black\" cx=\"804.25\" cy=\"-105\" rx=\"63.09\" ry=\"18\"/>\n<text text-anchor=\"middle\" x=\"804.25\" y=\"-101.3\" font-family=\"Times New Roman,serif\" font-size=\"14.00\">_director_n_of</text>\n</g>\n<!-- e29&#45;&gt;x30 -->\n<g id=\"edge14\" class=\"edge\">\n<title>e29&#45;&gt;x30</title>\n<path fill=\"none\" stroke=\"black\" d=\"M521.28,-179.81C545.59,-168.43 585.29,-151.08 621.25,-141 669.37,-127.5 683.23,-132.75 732.25,-123 737.52,-121.95 743,-120.79 748.47,-119.58\"/>\n<polygon fill=\"black\" stroke=\"black\" points=\"749.28,-122.99 758.26,-117.37 747.74,-116.16 749.28,-122.99\"/>\n<text text-anchor=\"middle\" x=\"639.25\" y=\"-144.8\" font-family=\"Times New Roman,serif\" font-size=\"14.00\">ARG2</text>\n</g>\n<!-- _5 -->\n<g id=\"node16\" class=\"node\">\n<title>_5</title>\n<ellipse fill=\"none\" stroke=\"black\" cx=\"643.25\" cy=\"-192\" rx=\"27.9\" ry=\"18\"/>\n<text text-anchor=\"middle\" x=\"643.25\" y=\"-188.3\" font-family=\"Times New Roman,serif\" font-size=\"14.00\">_a_q</text>\n</g>\n<!-- _5&#45;&gt;x30 -->\n<g id=\"edge15\" class=\"edge\">\n<title>_5&#45;&gt;x30</title>\n<path fill=\"none\" stroke=\"black\" d=\"M649.72,-174.28C654.81,-163.28 662.94,-149.41 674.25,-141 680.47,-136.37 715.2,-127.13 747.2,-119.3\"/>\n<polygon fill=\"black\" stroke=\"black\" points=\"748.12,-122.69 757.01,-116.93 746.47,-115.88 748.12,-122.69\"/>\n<text text-anchor=\"middle\" x=\"683.75\" y=\"-144.8\" font-family=\"Times New Roman,serif\" font-size=\"14.00\">BV</text>\n</g>\n<!-- e35 -->\n<g id=\"node17\" class=\"node\">\n<title>e35</title>\n<ellipse fill=\"none\" stroke=\"black\" cx=\"804.25\" cy=\"-192\" rx=\"115.08\" ry=\"18\"/>\n<text text-anchor=\"middle\" x=\"804.25\" y=\"-188.3\" font-family=\"Times New Roman,serif\" font-size=\"14.00\">_nonexecutive/jj_u_unknown</text>\n</g>\n<!-- e35&#45;&gt;x30 -->\n<g id=\"edge16\" class=\"edge\">\n<title>e35&#45;&gt;x30</title>\n<path fill=\"none\" stroke=\"black\" d=\"M804.25,-173.8C804.25,-162.16 804.25,-146.55 804.25,-133.24\"/>\n<polygon fill=\"black\" stroke=\"black\" points=\"807.75,-133.18 804.25,-123.18 800.75,-133.18 807.75,-133.18\"/>\n<text text-anchor=\"middle\" x=\"822.25\" y=\"-144.8\" font-family=\"Times New Roman,serif\" font-size=\"14.00\">ARG1</text>\n</g>\n<!-- e37 -->\n<g id=\"node18\" class=\"node\">\n<title>e37</title>\n<ellipse fill=\"none\" stroke=\"black\" cx=\"984.25\" cy=\"-192\" rx=\"46.59\" ry=\"18\"/>\n<text text-anchor=\"middle\" x=\"984.25\" y=\"-188.3\" font-family=\"Times New Roman,serif\" font-size=\"14.00\">loc_nonsp</text>\n</g>\n<!-- e37&#45;&gt;e3 -->\n<g id=\"edge17\" class=\"edge\">\n<title>e37&#45;&gt;e3</title>\n<path fill=\"none\" stroke=\"black\" d=\"M950.15,-179.55C942.98,-177.45 935.41,-175.47 928.25,-174 856.41,-159.29 836.65,-167.59 764.25,-156 732.4,-150.9 725.19,-145.44 693.25,-141 576.76,-124.81 544.92,-144.22 429.25,-123 425.09,-122.24 420.8,-121.27 416.53,-120.19\"/>\n<polygon fill=\"black\" stroke=\"black\" points=\"417.27,-116.77 406.7,-117.5 415.42,-123.52 417.27,-116.77\"/>\n<text text-anchor=\"middle\" x=\"782.25\" y=\"-144.8\" font-family=\"Times New Roman,serif\" font-size=\"14.00\">ARG1</text>\n</g>\n<!-- x38 -->\n<g id=\"node19\" class=\"node\">\n<title>x38</title>\n<ellipse fill=\"none\" stroke=\"black\" cx=\"1111.25\" cy=\"-105\" rx=\"29.8\" ry=\"18\"/>\n<text text-anchor=\"middle\" x=\"1111.25\" y=\"-101.3\" font-family=\"Times New Roman,serif\" font-size=\"14.00\">dofm</text>\n</g>\n<!-- e37&#45;&gt;x38 -->\n<g id=\"edge18\" class=\"edge\">\n<title>e37&#45;&gt;x38</title>\n<path fill=\"none\" stroke=\"black\" d=\"M1006.66,-176C1028.13,-161.63 1060.58,-139.91 1083.63,-124.48\"/>\n<polygon fill=\"black\" stroke=\"black\" points=\"1085.6,-127.38 1091.96,-118.91 1081.71,-121.56 1085.6,-127.38\"/>\n<text text-anchor=\"middle\" x=\"1074.25\" y=\"-144.8\" font-family=\"Times New Roman,serif\" font-size=\"14.00\">ARG2</text>\n</g>\n<!-- x40 -->\n<g id=\"node20\" class=\"node\">\n<title>x40</title>\n<ellipse fill=\"none\" stroke=\"black\" cx=\"1284.25\" cy=\"-105\" rx=\"29.8\" ry=\"18\"/>\n<text text-anchor=\"middle\" x=\"1284.25\" y=\"-101.3\" font-family=\"Times New Roman,serif\" font-size=\"14.00\">mofy</text>\n</g>\n<!-- _6 -->\n<g id=\"node21\" class=\"node\">\n<title>_6</title>\n<ellipse fill=\"none\" stroke=\"black\" cx=\"1111.25\" cy=\"-192\" rx=\"61.99\" ry=\"18\"/>\n<text text-anchor=\"middle\" x=\"1111.25\" y=\"-188.3\" font-family=\"Times New Roman,serif\" font-size=\"14.00\">def_explicit_q</text>\n</g>\n<!-- _6&#45;&gt;x38 -->\n<g id=\"edge19\" class=\"edge\">\n<title>_6&#45;&gt;x38</title>\n<path fill=\"none\" stroke=\"black\" d=\"M1111.25,-173.8C1111.25,-162.16 1111.25,-146.55 1111.25,-133.24\"/>\n<polygon fill=\"black\" stroke=\"black\" points=\"1114.75,-133.18 1111.25,-123.18 1107.75,-133.18 1114.75,-133.18\"/>\n<text text-anchor=\"middle\" x=\"1120.75\" y=\"-144.8\" font-family=\"Times New Roman,serif\" font-size=\"14.00\">BV</text>\n</g>\n<!-- e45 -->\n<g id=\"node22\" class=\"node\">\n<title>e45</title>\n<ellipse fill=\"none\" stroke=\"black\" cx=\"1218.25\" cy=\"-192\" rx=\"27\" ry=\"18\"/>\n<text text-anchor=\"middle\" x=\"1218.25\" y=\"-188.3\" font-family=\"Times New Roman,serif\" font-size=\"14.00\">of_p</text>\n</g>\n<!-- e45&#45;&gt;x38 -->\n<g id=\"edge20\" class=\"edge\">\n<title>e45&#45;&gt;x38</title>\n<path fill=\"none\" stroke=\"black\" d=\"M1201.53,-177.72C1184.14,-163.91 1156.72,-142.12 1136.65,-126.18\"/>\n<polygon fill=\"black\" stroke=\"black\" points=\"1138.56,-123.23 1128.56,-119.75 1134.21,-128.71 1138.56,-123.23\"/>\n<text text-anchor=\"middle\" x=\"1189.25\" y=\"-144.8\" font-family=\"Times New Roman,serif\" font-size=\"14.00\">ARG1</text>\n</g>\n<!-- e45&#45;&gt;x40 -->\n<g id=\"edge21\" class=\"edge\">\n<title>e45&#45;&gt;x40</title>\n<path fill=\"none\" stroke=\"black\" d=\"M1230.05,-175.8C1239.96,-163.03 1254.31,-144.55 1265.76,-129.81\"/>\n<polygon fill=\"black\" stroke=\"black\" points=\"1268.73,-131.68 1272.1,-121.64 1263.2,-127.39 1268.73,-131.68\"/>\n<text text-anchor=\"middle\" x=\"1273.25\" y=\"-144.8\" font-family=\"Times New Roman,serif\" font-size=\"14.00\">ARG2</text>\n</g>\n<!-- _7 -->\n<g id=\"node23\" class=\"node\">\n<title>_7</title>\n<ellipse fill=\"none\" stroke=\"black\" cx=\"1326.25\" cy=\"-192\" rx=\"63.09\" ry=\"18\"/>\n<text text-anchor=\"middle\" x=\"1326.25\" y=\"-188.3\" font-family=\"Times New Roman,serif\" font-size=\"14.00\">def_implicit_q</text>\n</g>\n<!-- _7&#45;&gt;x40 -->\n<g id=\"edge22\" class=\"edge\">\n<title>_7&#45;&gt;x40</title>\n<path fill=\"none\" stroke=\"black\" d=\"M1317.75,-173.8C1311.81,-161.78 1303.77,-145.51 1297.05,-131.92\"/>\n<polygon fill=\"black\" stroke=\"black\" points=\"1300.01,-130.01 1292.45,-122.6 1293.74,-133.11 1300.01,-130.01\"/>\n<text text-anchor=\"middle\" x=\"1317.75\" y=\"-144.8\" font-family=\"Times New Roman,serif\" font-size=\"14.00\">BV</text>\n</g>\n</g>\n</svg>\n",
      "text/plain": [
       "<graphviz.graphs.Digraph at 0x180c63303d0>"
      ]
     },
     "metadata": {},
     "output_type": "display_data"
    }
   ],
   "source": [
    "display(g1)"
   ]
  },
  {
   "cell_type": "code",
   "execution_count": 46,
   "id": "c2f5a418",
   "metadata": {},
   "outputs": [
    {
     "data": {
      "image/svg+xml": "<?xml version=\"1.0\" encoding=\"UTF-8\" standalone=\"no\"?>\n<!DOCTYPE svg PUBLIC \"-//W3C//DTD SVG 1.1//EN\"\n \"http://www.w3.org/Graphics/SVG/1.1/DTD/svg11.dtd\">\n<!-- Generated by graphviz version 2.50.0 (0)\n -->\n<!-- Pages: 1 -->\n<svg width=\"1574pt\" height=\"218pt\"\n viewBox=\"0.00 0.00 1574.29 218.00\" xmlns=\"http://www.w3.org/2000/svg\" xmlns:xlink=\"http://www.w3.org/1999/xlink\">\n<g id=\"graph0\" class=\"graph\" transform=\"scale(1 1) rotate(0) translate(4 214)\">\n<polygon fill=\"white\" stroke=\"transparent\" points=\"-4,4 -4,-214 1570.29,-214 1570.29,4 -4,4\"/>\n<!-- _1 -->\n<g id=\"node1\" class=\"node\">\n<title>_1</title>\n<ellipse fill=\"none\" stroke=\"black\" cx=\"42.25\" cy=\"-105\" rx=\"42.49\" ry=\"18\"/>\n<text text-anchor=\"middle\" x=\"42.25\" y=\"-101.3\" font-family=\"Times New Roman,serif\" font-size=\"14.00\">proper_q</text>\n</g>\n<!-- x6 -->\n<g id=\"node2\" class=\"node\">\n<title>x6</title>\n<ellipse fill=\"none\" stroke=\"black\" cx=\"295.25\" cy=\"-18\" rx=\"34.39\" ry=\"18\"/>\n<text text-anchor=\"middle\" x=\"295.25\" y=\"-14.3\" font-family=\"Times New Roman,serif\" font-size=\"14.00\">named</text>\n</g>\n<!-- _1&#45;&gt;x6 -->\n<g id=\"edge1\" class=\"edge\">\n<title>_1&#45;&gt;x6</title>\n<path fill=\"none\" stroke=\"black\" d=\"M74.29,-93.23C120.94,-77.56 207.4,-48.51 257.21,-31.78\"/>\n<polygon fill=\"black\" stroke=\"black\" points=\"258.6,-35.01 266.96,-28.5 256.37,-28.37 258.6,-35.01\"/>\n<text text-anchor=\"middle\" x=\"193.75\" y=\"-57.8\" font-family=\"Times New Roman,serif\" font-size=\"14.00\">BV</text>\n</g>\n<!-- e10 -->\n<g id=\"node3\" class=\"node\">\n<title>e10</title>\n<ellipse fill=\"none\" stroke=\"black\" cx=\"750.25\" cy=\"-105\" rx=\"48.19\" ry=\"18\"/>\n<text text-anchor=\"middle\" x=\"750.25\" y=\"-101.3\" font-family=\"Times New Roman,serif\" font-size=\"14.00\">compound</text>\n</g>\n<!-- e10&#45;&gt;x6 -->\n<g id=\"edge2\" class=\"edge\">\n<title>e10&#45;&gt;x6</title>\n<path fill=\"none\" stroke=\"black\" d=\"M714.53,-92.83C707.2,-90.74 699.5,-88.68 692.25,-87 646.12,-76.32 630.5,-88.26 587.25,-69 577.42,-64.62 578.16,-58.17 568.25,-54 528,-37.08 406.12,-26.48 339.65,-21.8\"/>\n<polygon fill=\"black\" stroke=\"black\" points=\"339.7,-18.3 329.48,-21.1 339.21,-25.28 339.7,-18.3\"/>\n<text text-anchor=\"middle\" x=\"605.25\" y=\"-57.8\" font-family=\"Times New Roman,serif\" font-size=\"14.00\">ARG1</text>\n</g>\n<!-- x9 -->\n<g id=\"node4\" class=\"node\">\n<title>x9</title>\n<ellipse fill=\"none\" stroke=\"black\" cx=\"816.25\" cy=\"-18\" rx=\"34.39\" ry=\"18\"/>\n<text text-anchor=\"middle\" x=\"816.25\" y=\"-14.3\" font-family=\"Times New Roman,serif\" font-size=\"14.00\">named</text>\n</g>\n<!-- e10&#45;&gt;x9 -->\n<g id=\"edge3\" class=\"edge\">\n<title>e10&#45;&gt;x9</title>\n<path fill=\"none\" stroke=\"black\" d=\"M762.97,-87.61C772.8,-74.95 786.56,-57.24 797.63,-42.98\"/>\n<polygon fill=\"black\" stroke=\"black\" points=\"800.42,-45.1 803.78,-35.05 794.89,-40.8 800.42,-45.1\"/>\n<text text-anchor=\"middle\" x=\"805.25\" y=\"-57.8\" font-family=\"Times New Roman,serif\" font-size=\"14.00\">ARG2</text>\n</g>\n<!-- _2 -->\n<g id=\"node5\" class=\"node\">\n<title>_2</title>\n<ellipse fill=\"none\" stroke=\"black\" cx=\"858.25\" cy=\"-105\" rx=\"42.49\" ry=\"18\"/>\n<text text-anchor=\"middle\" x=\"858.25\" y=\"-101.3\" font-family=\"Times New Roman,serif\" font-size=\"14.00\">proper_q</text>\n</g>\n<!-- _2&#45;&gt;x9 -->\n<g id=\"edge4\" class=\"edge\">\n<title>_2&#45;&gt;x9</title>\n<path fill=\"none\" stroke=\"black\" d=\"M849.95,-87.21C843.97,-75.1 835.78,-58.53 828.97,-44.76\"/>\n<polygon fill=\"black\" stroke=\"black\" points=\"832.09,-43.17 824.53,-35.76 825.82,-46.27 832.09,-43.17\"/>\n<text text-anchor=\"middle\" x=\"849.75\" y=\"-57.8\" font-family=\"Times New Roman,serif\" font-size=\"14.00\">BV</text>\n</g>\n<!-- e17 -->\n<g id=\"node6\" class=\"node\">\n<title>e17</title>\n<ellipse fill=\"none\" stroke=\"black\" cx=\"250.25\" cy=\"-192\" rx=\"40.09\" ry=\"18\"/>\n<text text-anchor=\"middle\" x=\"250.25\" y=\"-188.3\" font-family=\"Times New Roman,serif\" font-size=\"14.00\">measure</text>\n</g>\n<!-- e16 -->\n<g id=\"node7\" class=\"node\">\n<title>e16</title>\n<ellipse fill=\"none\" stroke=\"black\" cx=\"260.25\" cy=\"-105\" rx=\"43.59\" ry=\"18\"/>\n<text text-anchor=\"middle\" x=\"260.25\" y=\"-101.3\" font-family=\"Times New Roman,serif\" font-size=\"14.00\">_old_a_1</text>\n</g>\n<!-- e17&#45;&gt;e16 -->\n<g id=\"edge5\" class=\"edge\">\n<title>e17&#45;&gt;e16</title>\n<path fill=\"none\" stroke=\"black\" d=\"M252.27,-173.8C253.64,-162.16 255.48,-146.55 257.04,-133.24\"/>\n<polygon fill=\"black\" stroke=\"black\" points=\"260.53,-133.52 258.23,-123.18 253.58,-132.7 260.53,-133.52\"/>\n<text text-anchor=\"middle\" x=\"274.25\" y=\"-144.8\" font-family=\"Times New Roman,serif\" font-size=\"14.00\">ARG1</text>\n</g>\n<!-- x15 -->\n<g id=\"node8\" class=\"node\">\n<title>x15</title>\n<ellipse fill=\"none\" stroke=\"black\" cx=\"150.25\" cy=\"-105\" rx=\"48.19\" ry=\"18\"/>\n<text text-anchor=\"middle\" x=\"150.25\" y=\"-101.3\" font-family=\"Times New Roman,serif\" font-size=\"14.00\">_year_n_1</text>\n</g>\n<!-- e17&#45;&gt;x15 -->\n<g id=\"edge6\" class=\"edge\">\n<title>e17&#45;&gt;x15</title>\n<path fill=\"none\" stroke=\"black\" d=\"M232.37,-175.8C216.78,-162.55 193.96,-143.16 176.34,-128.18\"/>\n<polygon fill=\"black\" stroke=\"black\" points=\"178.53,-125.45 168.65,-121.64 174,-130.78 178.53,-125.45\"/>\n<text text-anchor=\"middle\" x=\"224.25\" y=\"-144.8\" font-family=\"Times New Roman,serif\" font-size=\"14.00\">ARG2</text>\n</g>\n<!-- e16&#45;&gt;x6 -->\n<g id=\"edge9\" class=\"edge\">\n<title>e16&#45;&gt;x6</title>\n<path fill=\"none\" stroke=\"black\" d=\"M261.38,-86.77C262.51,-76.86 264.76,-64.36 269.25,-54 270.86,-50.28 272.93,-46.58 275.21,-43.06\"/>\n<polygon fill=\"black\" stroke=\"black\" points=\"278.17,-44.93 281.13,-34.76 272.47,-40.87 278.17,-44.93\"/>\n<text text-anchor=\"middle\" x=\"287.25\" y=\"-57.8\" font-family=\"Times New Roman,serif\" font-size=\"14.00\">ARG1</text>\n</g>\n<!-- _3 -->\n<g id=\"node9\" class=\"node\">\n<title>_3</title>\n<ellipse fill=\"none\" stroke=\"black\" cx=\"151.25\" cy=\"-192\" rx=\"35.19\" ry=\"18\"/>\n<text text-anchor=\"middle\" x=\"151.25\" y=\"-188.3\" font-family=\"Times New Roman,serif\" font-size=\"14.00\">udef_q</text>\n</g>\n<!-- _3&#45;&gt;x15 -->\n<g id=\"edge7\" class=\"edge\">\n<title>_3&#45;&gt;x15</title>\n<path fill=\"none\" stroke=\"black\" d=\"M151.04,-173.8C150.91,-162.16 150.72,-146.55 150.57,-133.24\"/>\n<polygon fill=\"black\" stroke=\"black\" points=\"154.07,-133.13 150.45,-123.18 147.07,-133.22 154.07,-133.13\"/>\n<text text-anchor=\"middle\" x=\"160.75\" y=\"-144.8\" font-family=\"Times New Roman,serif\" font-size=\"14.00\">BV</text>\n</g>\n<!-- e22 -->\n<g id=\"node10\" class=\"node\">\n<title>e22</title>\n<ellipse fill=\"none\" stroke=\"black\" cx=\"71.25\" cy=\"-192\" rx=\"27\" ry=\"18\"/>\n<text text-anchor=\"middle\" x=\"71.25\" y=\"-188.3\" font-family=\"Times New Roman,serif\" font-size=\"14.00\">card</text>\n</g>\n<!-- e22&#45;&gt;x15 -->\n<g id=\"edge8\" class=\"edge\">\n<title>e22&#45;&gt;x15</title>\n<path fill=\"none\" stroke=\"black\" d=\"M82.53,-175.58C90.22,-165.41 100.86,-151.99 111.25,-141 115.15,-136.87 119.47,-132.67 123.78,-128.68\"/>\n<polygon fill=\"black\" stroke=\"black\" points=\"126.33,-131.08 131.41,-121.78 121.64,-125.89 126.33,-131.08\"/>\n<text text-anchor=\"middle\" x=\"129.25\" y=\"-144.8\" font-family=\"Times New Roman,serif\" font-size=\"14.00\">ARG1</text>\n</g>\n<!-- e3 -->\n<g id=\"node11\" class=\"node\">\n<title>e3</title>\n<ellipse fill=\"none\" stroke=\"red\" cx=\"459.25\" cy=\"-105\" rx=\"137.58\" ry=\"18\"/>\n<text text-anchor=\"middle\" x=\"459.25\" y=\"-101.3\" font-family=\"Times New Roman,serif\" font-size=\"14.00\" fill=\"red\">_join_v_1&#45;fn.cause_to_amalgamate</text>\n</g>\n<!-- e3&#45;&gt;x6 -->\n<g id=\"edge10\" class=\"edge\">\n<title>e3&#45;&gt;x6</title>\n<path fill=\"none\" stroke=\"blue\" d=\"M390.86,-89.3C374.89,-84.24 358.43,-77.61 344.25,-69 333,-62.17 322.5,-52.17 314.12,-42.91\"/>\n<polygon fill=\"blue\" stroke=\"blue\" points=\"316.53,-40.34 307.35,-35.06 311.23,-44.92 316.53,-40.34\"/>\n<text text-anchor=\"middle\" x=\"397.75\" y=\"-57.8\" font-family=\"Times New Roman,serif\" font-size=\"14.00\" fill=\"blue\">ARG1&#45;FN.AGENT</text>\n</g>\n<!-- x23 -->\n<g id=\"node12\" class=\"node\">\n<title>x23</title>\n<ellipse fill=\"none\" stroke=\"black\" cx=\"554.25\" cy=\"-18\" rx=\"55.79\" ry=\"18\"/>\n<text text-anchor=\"middle\" x=\"554.25\" y=\"-14.3\" font-family=\"Times New Roman,serif\" font-size=\"14.00\">_board_n_of</text>\n</g>\n<!-- e3&#45;&gt;x23 -->\n<g id=\"edge11\" class=\"edge\">\n<title>e3&#45;&gt;x23</title>\n<path fill=\"none\" stroke=\"blue\" d=\"M455.05,-86.75C453.55,-76.35 453.61,-63.35 460.25,-54 468.44,-42.46 480.9,-34.72 494.1,-29.53\"/>\n<polygon fill=\"blue\" stroke=\"blue\" points=\"495.48,-32.75 503.79,-26.18 493.2,-26.14 495.48,-32.75\"/>\n<text text-anchor=\"middle\" x=\"514.25\" y=\"-57.8\" font-family=\"Times New Roman,serif\" font-size=\"14.00\" fill=\"blue\">ARG2&#45;FN.PART_1</text>\n</g>\n<!-- _4 -->\n<g id=\"node13\" class=\"node\">\n<title>_4</title>\n<ellipse fill=\"none\" stroke=\"black\" cx=\"649.25\" cy=\"-105\" rx=\"34.39\" ry=\"18\"/>\n<text text-anchor=\"middle\" x=\"649.25\" y=\"-101.3\" font-family=\"Times New Roman,serif\" font-size=\"14.00\">_the_q</text>\n</g>\n<!-- _4&#45;&gt;x23 -->\n<g id=\"edge12\" class=\"edge\">\n<title>_4&#45;&gt;x23</title>\n<path fill=\"none\" stroke=\"black\" d=\"M645.04,-86.98C641.7,-76.4 636.08,-63.13 627.25,-54 620.06,-46.58 610.98,-40.53 601.69,-35.68\"/>\n<polygon fill=\"black\" stroke=\"black\" points=\"602.93,-32.39 592.4,-31.23 599.9,-38.71 602.93,-32.39\"/>\n<text text-anchor=\"middle\" x=\"647.75\" y=\"-57.8\" font-family=\"Times New Roman,serif\" font-size=\"14.00\">BV</text>\n</g>\n<!-- e29 -->\n<g id=\"node14\" class=\"node\">\n<title>e29</title>\n<ellipse fill=\"none\" stroke=\"black\" cx=\"580.25\" cy=\"-192\" rx=\"31.4\" ry=\"18\"/>\n<text text-anchor=\"middle\" x=\"580.25\" y=\"-188.3\" font-family=\"Times New Roman,serif\" font-size=\"14.00\">_as_p</text>\n</g>\n<!-- e29&#45;&gt;e3 -->\n<g id=\"edge13\" class=\"edge\">\n<title>e29&#45;&gt;e3</title>\n<path fill=\"none\" stroke=\"black\" d=\"M561.07,-177.53C542.48,-164.47 513.92,-144.41 491.77,-128.85\"/>\n<polygon fill=\"black\" stroke=\"black\" points=\"493.53,-125.8 483.33,-122.92 489.5,-131.53 493.53,-125.8\"/>\n<text text-anchor=\"middle\" x=\"545.25\" y=\"-144.8\" font-family=\"Times New Roman,serif\" font-size=\"14.00\">ARG1</text>\n</g>\n<!-- x30 -->\n<g id=\"node15\" class=\"node\">\n<title>x30</title>\n<ellipse fill=\"none\" stroke=\"black\" cx=\"981.25\" cy=\"-105\" rx=\"63.09\" ry=\"18\"/>\n<text text-anchor=\"middle\" x=\"981.25\" y=\"-101.3\" font-family=\"Times New Roman,serif\" font-size=\"14.00\">_director_n_of</text>\n</g>\n<!-- e29&#45;&gt;x30 -->\n<g id=\"edge14\" class=\"edge\">\n<title>e29&#45;&gt;x30</title>\n<path fill=\"none\" stroke=\"black\" d=\"M608.34,-183.94C649.74,-173.68 729.65,-154.41 798.25,-141 847.3,-131.41 860.23,-132.75 909.25,-123 914.52,-121.95 920,-120.79 925.47,-119.58\"/>\n<polygon fill=\"black\" stroke=\"black\" points=\"926.28,-122.99 935.26,-117.37 924.74,-116.16 926.28,-122.99\"/>\n<text text-anchor=\"middle\" x=\"816.25\" y=\"-144.8\" font-family=\"Times New Roman,serif\" font-size=\"14.00\">ARG2</text>\n</g>\n<!-- _5 -->\n<g id=\"node16\" class=\"node\">\n<title>_5</title>\n<ellipse fill=\"none\" stroke=\"black\" cx=\"820.25\" cy=\"-192\" rx=\"27.9\" ry=\"18\"/>\n<text text-anchor=\"middle\" x=\"820.25\" y=\"-188.3\" font-family=\"Times New Roman,serif\" font-size=\"14.00\">_a_q</text>\n</g>\n<!-- _5&#45;&gt;x30 -->\n<g id=\"edge15\" class=\"edge\">\n<title>_5&#45;&gt;x30</title>\n<path fill=\"none\" stroke=\"black\" d=\"M826.72,-174.28C831.81,-163.28 839.94,-149.41 851.25,-141 857.47,-136.37 892.2,-127.13 924.2,-119.3\"/>\n<polygon fill=\"black\" stroke=\"black\" points=\"925.12,-122.69 934.01,-116.93 923.47,-115.88 925.12,-122.69\"/>\n<text text-anchor=\"middle\" x=\"860.75\" y=\"-144.8\" font-family=\"Times New Roman,serif\" font-size=\"14.00\">BV</text>\n</g>\n<!-- e35 -->\n<g id=\"node17\" class=\"node\">\n<title>e35</title>\n<ellipse fill=\"none\" stroke=\"black\" cx=\"981.25\" cy=\"-192\" rx=\"115.08\" ry=\"18\"/>\n<text text-anchor=\"middle\" x=\"981.25\" y=\"-188.3\" font-family=\"Times New Roman,serif\" font-size=\"14.00\">_nonexecutive/jj_u_unknown</text>\n</g>\n<!-- e35&#45;&gt;x30 -->\n<g id=\"edge16\" class=\"edge\">\n<title>e35&#45;&gt;x30</title>\n<path fill=\"none\" stroke=\"black\" d=\"M981.25,-173.8C981.25,-162.16 981.25,-146.55 981.25,-133.24\"/>\n<polygon fill=\"black\" stroke=\"black\" points=\"984.75,-133.18 981.25,-123.18 977.75,-133.18 984.75,-133.18\"/>\n<text text-anchor=\"middle\" x=\"999.25\" y=\"-144.8\" font-family=\"Times New Roman,serif\" font-size=\"14.00\">ARG1</text>\n</g>\n<!-- e37 -->\n<g id=\"node18\" class=\"node\">\n<title>e37</title>\n<ellipse fill=\"none\" stroke=\"black\" cx=\"1161.25\" cy=\"-192\" rx=\"46.59\" ry=\"18\"/>\n<text text-anchor=\"middle\" x=\"1161.25\" y=\"-188.3\" font-family=\"Times New Roman,serif\" font-size=\"14.00\">loc_nonsp</text>\n</g>\n<!-- e37&#45;&gt;e3 -->\n<g id=\"edge17\" class=\"edge\">\n<title>e37&#45;&gt;e3</title>\n<path fill=\"none\" stroke=\"black\" d=\"M1127.15,-179.55C1119.98,-177.45 1112.41,-175.47 1105.25,-174 1033.41,-159.29 1013.65,-167.59 941.25,-156 909.4,-150.9 902.19,-145.44 870.25,-141 753.76,-124.81 723.36,-133.76 606.25,-123 593.3,-121.81 579.73,-120.43 566.29,-118.97\"/>\n<polygon fill=\"black\" stroke=\"black\" points=\"566.36,-115.46 556.04,-117.85 565.6,-122.42 566.36,-115.46\"/>\n<text text-anchor=\"middle\" x=\"959.25\" y=\"-144.8\" font-family=\"Times New Roman,serif\" font-size=\"14.00\">ARG1</text>\n</g>\n<!-- x38 -->\n<g id=\"node19\" class=\"node\">\n<title>x38</title>\n<ellipse fill=\"none\" stroke=\"black\" cx=\"1288.25\" cy=\"-105\" rx=\"29.8\" ry=\"18\"/>\n<text text-anchor=\"middle\" x=\"1288.25\" y=\"-101.3\" font-family=\"Times New Roman,serif\" font-size=\"14.00\">dofm</text>\n</g>\n<!-- e37&#45;&gt;x38 -->\n<g id=\"edge18\" class=\"edge\">\n<title>e37&#45;&gt;x38</title>\n<path fill=\"none\" stroke=\"black\" d=\"M1183.66,-176C1205.13,-161.63 1237.58,-139.91 1260.63,-124.48\"/>\n<polygon fill=\"black\" stroke=\"black\" points=\"1262.6,-127.38 1268.96,-118.91 1258.71,-121.56 1262.6,-127.38\"/>\n<text text-anchor=\"middle\" x=\"1251.25\" y=\"-144.8\" font-family=\"Times New Roman,serif\" font-size=\"14.00\">ARG2</text>\n</g>\n<!-- x40 -->\n<g id=\"node20\" class=\"node\">\n<title>x40</title>\n<ellipse fill=\"none\" stroke=\"black\" cx=\"1461.25\" cy=\"-105\" rx=\"29.8\" ry=\"18\"/>\n<text text-anchor=\"middle\" x=\"1461.25\" y=\"-101.3\" font-family=\"Times New Roman,serif\" font-size=\"14.00\">mofy</text>\n</g>\n<!-- _6 -->\n<g id=\"node21\" class=\"node\">\n<title>_6</title>\n<ellipse fill=\"none\" stroke=\"black\" cx=\"1288.25\" cy=\"-192\" rx=\"61.99\" ry=\"18\"/>\n<text text-anchor=\"middle\" x=\"1288.25\" y=\"-188.3\" font-family=\"Times New Roman,serif\" font-size=\"14.00\">def_explicit_q</text>\n</g>\n<!-- _6&#45;&gt;x38 -->\n<g id=\"edge19\" class=\"edge\">\n<title>_6&#45;&gt;x38</title>\n<path fill=\"none\" stroke=\"black\" d=\"M1288.25,-173.8C1288.25,-162.16 1288.25,-146.55 1288.25,-133.24\"/>\n<polygon fill=\"black\" stroke=\"black\" points=\"1291.75,-133.18 1288.25,-123.18 1284.75,-133.18 1291.75,-133.18\"/>\n<text text-anchor=\"middle\" x=\"1297.75\" y=\"-144.8\" font-family=\"Times New Roman,serif\" font-size=\"14.00\">BV</text>\n</g>\n<!-- e45 -->\n<g id=\"node22\" class=\"node\">\n<title>e45</title>\n<ellipse fill=\"none\" stroke=\"black\" cx=\"1395.25\" cy=\"-192\" rx=\"27\" ry=\"18\"/>\n<text text-anchor=\"middle\" x=\"1395.25\" y=\"-188.3\" font-family=\"Times New Roman,serif\" font-size=\"14.00\">of_p</text>\n</g>\n<!-- e45&#45;&gt;x38 -->\n<g id=\"edge20\" class=\"edge\">\n<title>e45&#45;&gt;x38</title>\n<path fill=\"none\" stroke=\"black\" d=\"M1378.53,-177.72C1361.14,-163.91 1333.72,-142.12 1313.65,-126.18\"/>\n<polygon fill=\"black\" stroke=\"black\" points=\"1315.56,-123.23 1305.56,-119.75 1311.21,-128.71 1315.56,-123.23\"/>\n<text text-anchor=\"middle\" x=\"1366.25\" y=\"-144.8\" font-family=\"Times New Roman,serif\" font-size=\"14.00\">ARG1</text>\n</g>\n<!-- e45&#45;&gt;x40 -->\n<g id=\"edge21\" class=\"edge\">\n<title>e45&#45;&gt;x40</title>\n<path fill=\"none\" stroke=\"black\" d=\"M1407.05,-175.8C1416.96,-163.03 1431.31,-144.55 1442.76,-129.81\"/>\n<polygon fill=\"black\" stroke=\"black\" points=\"1445.73,-131.68 1449.1,-121.64 1440.2,-127.39 1445.73,-131.68\"/>\n<text text-anchor=\"middle\" x=\"1450.25\" y=\"-144.8\" font-family=\"Times New Roman,serif\" font-size=\"14.00\">ARG2</text>\n</g>\n<!-- _7 -->\n<g id=\"node23\" class=\"node\">\n<title>_7</title>\n<ellipse fill=\"none\" stroke=\"black\" cx=\"1503.25\" cy=\"-192\" rx=\"63.09\" ry=\"18\"/>\n<text text-anchor=\"middle\" x=\"1503.25\" y=\"-188.3\" font-family=\"Times New Roman,serif\" font-size=\"14.00\">def_implicit_q</text>\n</g>\n<!-- _7&#45;&gt;x40 -->\n<g id=\"edge22\" class=\"edge\">\n<title>_7&#45;&gt;x40</title>\n<path fill=\"none\" stroke=\"black\" d=\"M1494.75,-173.8C1488.81,-161.78 1480.77,-145.51 1474.05,-131.92\"/>\n<polygon fill=\"black\" stroke=\"black\" points=\"1477.01,-130.01 1469.45,-122.6 1470.74,-133.11 1477.01,-130.01\"/>\n<text text-anchor=\"middle\" x=\"1494.75\" y=\"-144.8\" font-family=\"Times New Roman,serif\" font-size=\"14.00\">BV</text>\n</g>\n</g>\n</svg>\n",
      "text/plain": [
       "<graphviz.graphs.Digraph at 0x180c6330f10>"
      ]
     },
     "metadata": {},
     "output_type": "display_data"
    }
   ],
   "source": [
    "g2 = eds2graph(test_sent_eds.eds)\n",
    "display(g2)"
   ]
  },
  {
   "cell_type": "code",
   "execution_count": 49,
   "id": "02dd3692",
   "metadata": {},
   "outputs": [],
   "source": [
    "from nltk.tree import Tree\n",
    "def get_parse_from_file(filename, idx):\n",
    "    with open(filename, 'r') as f:\n",
    "        parses = f.read().split('\\n\\n')\n",
    "    \n",
    "    return parses[idx]"
   ]
  },
  {
   "cell_type": "code",
   "execution_count": 50,
   "id": "565ad574",
   "metadata": {},
   "outputs": [],
   "source": [
    "t = get_parse_from_file('nw/wsj/00/wsj_0003.parse', 1)"
   ]
  },
  {
   "cell_type": "code",
   "execution_count": 51,
   "id": "bde99133",
   "metadata": {},
   "outputs": [],
   "source": [
    "tree = Tree.fromstring(t)"
   ]
  },
  {
   "cell_type": "code",
   "execution_count": 83,
   "id": "509f3a98",
   "metadata": {},
   "outputs": [
    {
     "data": {
      "text/plain": [
       "['The', 'asbestos', 'fiber', ',', '*T*-2', '.']"
      ]
     },
     "execution_count": 83,
     "metadata": {},
     "output_type": "execute_result"
    }
   ],
   "source": [
    "tree.leaves()[0:4] + tree.leaves()[33:35]"
   ]
  },
  {
   "cell_type": "code",
   "execution_count": 56,
   "id": "c143ceeb",
   "metadata": {},
   "outputs": [
    {
     "name": "stdout",
     "output_type": "stream",
     "text": [
      "24 201\n"
     ]
    }
   ],
   "source": [
    "ts, tet, te = get_from_file('deepbank_raw/20003002')"
   ]
  },
  {
   "cell_type": "code",
   "execution_count": 95,
   "id": "4895a9a5",
   "metadata": {},
   "outputs": [],
   "source": [
    "def get_children_strings(sentence, eds, node):\n",
    "    arg_str_dict = {}\n",
    "    for key in node.edges.keys():\n",
    "        arg_str_dict[key] = \"\"\n",
    "\n",
    "    for key in node.edges.keys():\n",
    "        batch = [get_node(eds, node.edges[key])]\n",
    "        index_tuples = [get_node(eds, node.edges[key]).lnk.data]\n",
    "        children_string = \"\"\n",
    "\n",
    "        while batch != []:\n",
    "            new_batch = []\n",
    "            for c in batch:\n",
    "                # print(c.predicate)\n",
    "                # print(c.edges)\n",
    "                for c_key in c.edges.keys():\n",
    "                    # print(c_key)\n",
    "                    # print(c.edges[key])\n",
    "                    new_batch.append(get_node(eds, c.edges[c_key]))\n",
    "                    #collect all children nodes\n",
    "            #print(new_batch)\n",
    "            for c in new_batch:\n",
    "                new_node = c\n",
    "                index_tuples.append(new_node.lnk.data)\n",
    "            batch = new_batch\n",
    "    \n",
    "        index_tuples = sorted([(int(i), int(j)) for (i,j) in index_tuples], key=lambda x : x[0])\n",
    "        for (i,j) in index_tuples:\n",
    "            children_string += sentence[i:j]\n",
    "\n",
    "        arg_str_dict[key] = children_string\n",
    "    \n",
    "    return arg_str_dict"
   ]
  },
  {
   "cell_type": "code",
   "execution_count": 69,
   "id": "348a72e9",
   "metadata": {},
   "outputs": [
    {
     "data": {
      "text/plain": [
       "<EDS object (focus_d appos _the_q compound udef_q _asbestos_n_1 _fiber_n_1 udef_q _crocidolite/nn_u_unknown _unusually_x_deg _resilient/jj_u_unknown _once_x_subord pron pronoun_q _enter_v_1 _the_q _lung_n_1 _with_x_subord _even_x_deg udef_q _brief_a_1 _exposure_n_of-to _to_p pron pronoun_q _cause_v_1 udef_q _symptom_n_1 _show_v_up loc_nonsp udef_q _decade_n_1 loc_nonsp time_n def_explicit_q _late_a_for comp udef_q _researcher_n_of _say_v_to) at 1652592114240>"
      ]
     },
     "execution_count": 69,
     "metadata": {},
     "output_type": "execute_result"
    }
   ],
   "source": [
    "te"
   ]
  },
  {
   "cell_type": "code",
   "execution_count": 70,
   "id": "a7553208",
   "metadata": {},
   "outputs": [
    {
     "data": {
      "text/plain": [
       "'The asbestos fiber, crocidolite, is unusually resilient once it enters the lungs, with even brief exposures to it causing symptoms that show up decades later, researchers said.'"
      ]
     },
     "execution_count": 70,
     "metadata": {},
     "output_type": "execute_result"
    }
   ],
   "source": [
    "ts"
   ]
  },
  {
   "cell_type": "code",
   "execution_count": 96,
   "id": "2b121a83",
   "metadata": {},
   "outputs": [
    {
     "data": {
      "text/plain": [
       "{'ARG1': 'researchers',\n",
       " 'ARG2': 'fiber,resilientonceitenterslungs,withexposurescausingsymptoms'}"
      ]
     },
     "execution_count": 96,
     "metadata": {},
     "output_type": "execute_result"
    }
   ],
   "source": [
    "get_children_strings(ts, te, get_node(te, 'e3'))"
   ]
  },
  {
   "cell_type": "code",
   "execution_count": 78,
   "id": "817e3a7f",
   "metadata": {},
   "outputs": [
    {
     "data": {
      "text/plain": [
       "<Node object (e3:_say_v_to<171:176>[e]) at 1652593711696>"
      ]
     },
     "execution_count": 78,
     "metadata": {},
     "output_type": "execute_result"
    }
   ],
   "source": [
    "get_node(te, 'e3')"
   ]
  },
  {
   "cell_type": "code",
   "execution_count": 84,
   "id": "7fa8bc56",
   "metadata": {},
   "outputs": [
    {
     "data": {
      "image/svg+xml": "<?xml version=\"1.0\" encoding=\"UTF-8\" standalone=\"no\"?>\n<!DOCTYPE svg PUBLIC \"-//W3C//DTD SVG 1.1//EN\"\n \"http://www.w3.org/Graphics/SVG/1.1/DTD/svg11.dtd\">\n<!-- Generated by graphviz version 2.50.0 (0)\n -->\n<!-- Pages: 1 -->\n<svg width=\"1885pt\" height=\"479pt\"\n viewBox=\"0.00 0.00 1885.19 479.00\" xmlns=\"http://www.w3.org/2000/svg\" xmlns:xlink=\"http://www.w3.org/1999/xlink\">\n<g id=\"graph0\" class=\"graph\" transform=\"scale(1 1) rotate(0) translate(4 475)\">\n<polygon fill=\"white\" stroke=\"transparent\" points=\"-4,4 -4,-475 1881.19,-475 1881.19,4 -4,4\"/>\n<!-- e5 -->\n<g id=\"node1\" class=\"node\">\n<title>e5</title>\n<ellipse fill=\"none\" stroke=\"black\" cx=\"433.45\" cy=\"-453\" rx=\"38.19\" ry=\"18\"/>\n<text text-anchor=\"middle\" x=\"433.45\" y=\"-449.3\" font-family=\"Times New Roman,serif\" font-size=\"14.00\">focus_d</text>\n</g>\n<!-- e3 -->\n<g id=\"node2\" class=\"node\">\n<title>e3</title>\n<ellipse fill=\"none\" stroke=\"black\" cx=\"776.45\" cy=\"-366\" rx=\"46.59\" ry=\"18\"/>\n<text text-anchor=\"middle\" x=\"776.45\" y=\"-362.3\" font-family=\"Times New Roman,serif\" font-size=\"14.00\">_say_v_to</text>\n</g>\n<!-- e5&#45;&gt;e3 -->\n<g id=\"edge1\" class=\"edge\">\n<title>e5&#45;&gt;e3</title>\n<path fill=\"none\" stroke=\"black\" d=\"M466.65,-443.77C527.62,-428.66 657.65,-396.44 728.32,-378.93\"/>\n<polygon fill=\"black\" stroke=\"black\" points=\"729.43,-382.26 738.3,-376.45 727.75,-375.46 729.43,-382.26\"/>\n<text text-anchor=\"middle\" x=\"644.45\" y=\"-405.8\" font-family=\"Times New Roman,serif\" font-size=\"14.00\">ARG1</text>\n</g>\n<!-- e4 -->\n<g id=\"node3\" class=\"node\">\n<title>e4</title>\n<ellipse fill=\"none\" stroke=\"black\" cx=\"183.45\" cy=\"-105\" rx=\"96.68\" ry=\"18\"/>\n<text text-anchor=\"middle\" x=\"183.45\" y=\"-101.3\" font-family=\"Times New Roman,serif\" font-size=\"14.00\">_resilient/jj_u_unknown</text>\n</g>\n<!-- e5&#45;&gt;e4 -->\n<g id=\"edge2\" class=\"edge\">\n<title>e5&#45;&gt;e4</title>\n<path fill=\"none\" stroke=\"black\" d=\"M428.3,-434.92C423.62,-417.88 417.45,-390.88 417.45,-367 417.45,-367 417.45,-367 417.45,-191 417.45,-157.37 331,-133.22 263.19,-119.45\"/>\n<polygon fill=\"black\" stroke=\"black\" points=\"263.83,-116.01 253.34,-117.49 262.46,-122.87 263.83,-116.01\"/>\n<text text-anchor=\"middle\" x=\"435.45\" y=\"-275.3\" font-family=\"Times New Roman,serif\" font-size=\"14.00\">ARG2</text>\n</g>\n<!-- e42 -->\n<g id=\"node19\" class=\"node\">\n<title>e42</title>\n<ellipse fill=\"none\" stroke=\"black\" cx=\"776.45\" cy=\"-279\" rx=\"67.69\" ry=\"18\"/>\n<text text-anchor=\"middle\" x=\"776.45\" y=\"-275.3\" font-family=\"Times New Roman,serif\" font-size=\"14.00\">_with_x_subord</text>\n</g>\n<!-- e3&#45;&gt;e42 -->\n<g id=\"edge40\" class=\"edge\">\n<title>e3&#45;&gt;e42</title>\n<path fill=\"none\" stroke=\"black\" d=\"M776.45,-347.8C776.45,-336.16 776.45,-320.55 776.45,-307.24\"/>\n<polygon fill=\"black\" stroke=\"black\" points=\"779.95,-307.18 776.45,-297.18 772.95,-307.18 779.95,-307.18\"/>\n<text text-anchor=\"middle\" x=\"794.45\" y=\"-318.8\" font-family=\"Times New Roman,serif\" font-size=\"14.00\">ARG2</text>\n</g>\n<!-- x84 -->\n<g id=\"node40\" class=\"node\">\n<title>x84</title>\n<ellipse fill=\"none\" stroke=\"black\" cx=\"933.45\" cy=\"-279\" rx=\"71.49\" ry=\"18\"/>\n<text text-anchor=\"middle\" x=\"933.45\" y=\"-275.3\" font-family=\"Times New Roman,serif\" font-size=\"14.00\">_researcher_n_of</text>\n</g>\n<!-- e3&#45;&gt;x84 -->\n<g id=\"edge39\" class=\"edge\">\n<title>e3&#45;&gt;x84</title>\n<path fill=\"none\" stroke=\"black\" d=\"M802.37,-350.96C827.84,-337.18 866.96,-316 895.84,-300.36\"/>\n<polygon fill=\"black\" stroke=\"black\" points=\"897.69,-303.34 904.82,-295.5 894.36,-297.18 897.69,-303.34\"/>\n<text text-anchor=\"middle\" x=\"882.45\" y=\"-318.8\" font-family=\"Times New Roman,serif\" font-size=\"14.00\">ARG1</text>\n</g>\n<!-- x8 -->\n<g id=\"node5\" class=\"node\">\n<title>x8</title>\n<ellipse fill=\"none\" stroke=\"black\" cx=\"183.45\" cy=\"-18\" rx=\"49.29\" ry=\"18\"/>\n<text text-anchor=\"middle\" x=\"183.45\" y=\"-14.3\" font-family=\"Times New Roman,serif\" font-size=\"14.00\">_fiber_n_1</text>\n</g>\n<!-- e4&#45;&gt;x8 -->\n<g id=\"edge11\" class=\"edge\">\n<title>e4&#45;&gt;x8</title>\n<path fill=\"none\" stroke=\"black\" d=\"M183.45,-86.8C183.45,-75.16 183.45,-59.55 183.45,-46.24\"/>\n<polygon fill=\"black\" stroke=\"black\" points=\"186.95,-46.18 183.45,-36.18 179.95,-46.18 186.95,-46.18\"/>\n<text text-anchor=\"middle\" x=\"201.45\" y=\"-57.8\" font-family=\"Times New Roman,serif\" font-size=\"14.00\">ARG1</text>\n</g>\n<!-- e9 -->\n<g id=\"node4\" class=\"node\">\n<title>e9</title>\n<ellipse fill=\"none\" stroke=\"black\" cx=\"329.45\" cy=\"-105\" rx=\"31.4\" ry=\"18\"/>\n<text text-anchor=\"middle\" x=\"329.45\" y=\"-101.3\" font-family=\"Times New Roman,serif\" font-size=\"14.00\">appos</text>\n</g>\n<!-- e9&#45;&gt;x8 -->\n<g id=\"edge3\" class=\"edge\">\n<title>e9&#45;&gt;x8</title>\n<path fill=\"none\" stroke=\"black\" d=\"M304.93,-93.58C282.07,-83.84 251.09,-70.55 248.45,-69 234.92,-61.04 220.99,-50.66 209.51,-41.43\"/>\n<polygon fill=\"black\" stroke=\"black\" points=\"211.58,-38.6 201.63,-34.96 207.13,-44.01 211.58,-38.6\"/>\n<text text-anchor=\"middle\" x=\"266.45\" y=\"-57.8\" font-family=\"Times New Roman,serif\" font-size=\"14.00\">ARG1</text>\n</g>\n<!-- x7 -->\n<g id=\"node6\" class=\"node\">\n<title>x7</title>\n<ellipse fill=\"none\" stroke=\"black\" cx=\"381.45\" cy=\"-18\" rx=\"109.68\" ry=\"18\"/>\n<text text-anchor=\"middle\" x=\"381.45\" y=\"-14.3\" font-family=\"Times New Roman,serif\" font-size=\"14.00\">_crocidolite/nn_u_unknown</text>\n</g>\n<!-- e9&#45;&gt;x7 -->\n<g id=\"edge4\" class=\"edge\">\n<title>e9&#45;&gt;x7</title>\n<path fill=\"none\" stroke=\"black\" d=\"M339.47,-87.61C346.93,-75.42 357.25,-58.56 365.79,-44.6\"/>\n<polygon fill=\"black\" stroke=\"black\" points=\"368.86,-46.28 371.1,-35.92 362.89,-42.62 368.86,-46.28\"/>\n<text text-anchor=\"middle\" x=\"377.45\" y=\"-57.8\" font-family=\"Times New Roman,serif\" font-size=\"14.00\">ARG2</text>\n</g>\n<!-- _1 -->\n<g id=\"node7\" class=\"node\">\n<title>_1</title>\n<ellipse fill=\"none\" stroke=\"black\" cx=\"34.45\" cy=\"-105\" rx=\"34.39\" ry=\"18\"/>\n<text text-anchor=\"middle\" x=\"34.45\" y=\"-101.3\" font-family=\"Times New Roman,serif\" font-size=\"14.00\">_the_q</text>\n</g>\n<!-- _1&#45;&gt;x8 -->\n<g id=\"edge5\" class=\"edge\">\n<title>_1&#45;&gt;x8</title>\n<path fill=\"none\" stroke=\"black\" d=\"M56.75,-91.27C81.22,-77.32 120.78,-54.75 149.19,-38.54\"/>\n<polygon fill=\"black\" stroke=\"black\" points=\"151.04,-41.52 157.99,-33.52 147.57,-35.44 151.04,-41.52\"/>\n<text text-anchor=\"middle\" x=\"127.95\" y=\"-57.8\" font-family=\"Times New Roman,serif\" font-size=\"14.00\">BV</text>\n</g>\n<!-- e15 -->\n<g id=\"node8\" class=\"node\">\n<title>e15</title>\n<ellipse fill=\"none\" stroke=\"black\" cx=\"426.45\" cy=\"-105\" rx=\"48.19\" ry=\"18\"/>\n<text text-anchor=\"middle\" x=\"426.45\" y=\"-101.3\" font-family=\"Times New Roman,serif\" font-size=\"14.00\">compound</text>\n</g>\n<!-- e15&#45;&gt;x8 -->\n<g id=\"edge6\" class=\"edge\">\n<title>e15&#45;&gt;x8</title>\n<path fill=\"none\" stroke=\"black\" d=\"M390.17,-93.05C358.22,-83.37 316.2,-70.56 312.45,-69 299.42,-63.57 297.38,-59.66 284.45,-54 267.11,-46.41 247.56,-39.31 230.31,-33.52\"/>\n<polygon fill=\"black\" stroke=\"black\" points=\"231.04,-30.08 220.45,-30.27 228.85,-36.72 231.04,-30.08\"/>\n<text text-anchor=\"middle\" x=\"330.45\" y=\"-57.8\" font-family=\"Times New Roman,serif\" font-size=\"14.00\">ARG1</text>\n</g>\n<!-- x14 -->\n<g id=\"node9\" class=\"node\">\n<title>x14</title>\n<ellipse fill=\"none\" stroke=\"black\" cx=\"586.45\" cy=\"-18\" rx=\"61.99\" ry=\"18\"/>\n<text text-anchor=\"middle\" x=\"586.45\" y=\"-14.3\" font-family=\"Times New Roman,serif\" font-size=\"14.00\">_asbestos_n_1</text>\n</g>\n<!-- e15&#45;&gt;x14 -->\n<g id=\"edge7\" class=\"edge\">\n<title>e15&#45;&gt;x14</title>\n<path fill=\"none\" stroke=\"black\" d=\"M429.56,-86.84C432.42,-75.94 437.74,-62.35 447.45,-54 453.85,-48.5 492.47,-39.01 527.39,-31.29\"/>\n<polygon fill=\"black\" stroke=\"black\" points=\"528.56,-34.62 537.58,-29.07 527.07,-27.78 528.56,-34.62\"/>\n<text text-anchor=\"middle\" x=\"465.45\" y=\"-57.8\" font-family=\"Times New Roman,serif\" font-size=\"14.00\">ARG2</text>\n</g>\n<!-- _2 -->\n<g id=\"node10\" class=\"node\">\n<title>_2</title>\n<ellipse fill=\"none\" stroke=\"black\" cx=\"615.45\" cy=\"-105\" rx=\"35.19\" ry=\"18\"/>\n<text text-anchor=\"middle\" x=\"615.45\" y=\"-101.3\" font-family=\"Times New Roman,serif\" font-size=\"14.00\">udef_q</text>\n</g>\n<!-- _2&#45;&gt;x14 -->\n<g id=\"edge8\" class=\"edge\">\n<title>_2&#45;&gt;x14</title>\n<path fill=\"none\" stroke=\"black\" d=\"M609.72,-87.21C605.69,-75.41 600.22,-59.38 595.6,-45.82\"/>\n<polygon fill=\"black\" stroke=\"black\" points=\"598.81,-44.38 592.26,-36.05 592.18,-46.64 598.81,-44.38\"/>\n<text text-anchor=\"middle\" x=\"612.95\" y=\"-57.8\" font-family=\"Times New Roman,serif\" font-size=\"14.00\">BV</text>\n</g>\n<!-- _3 -->\n<g id=\"node11\" class=\"node\">\n<title>_3</title>\n<ellipse fill=\"none\" stroke=\"black\" cx=\"527.45\" cy=\"-105\" rx=\"35.19\" ry=\"18\"/>\n<text text-anchor=\"middle\" x=\"527.45\" y=\"-101.3\" font-family=\"Times New Roman,serif\" font-size=\"14.00\">udef_q</text>\n</g>\n<!-- _3&#45;&gt;x7 -->\n<g id=\"edge9\" class=\"edge\">\n<title>_3&#45;&gt;x7</title>\n<path fill=\"none\" stroke=\"black\" d=\"M517.81,-87.51C510.68,-76.6 500.04,-62.76 487.45,-54 477.09,-46.8 465.14,-41 453.09,-36.35\"/>\n<polygon fill=\"black\" stroke=\"black\" points=\"454.02,-32.96 443.43,-32.86 451.65,-39.55 454.02,-32.96\"/>\n<text text-anchor=\"middle\" x=\"512.95\" y=\"-57.8\" font-family=\"Times New Roman,serif\" font-size=\"14.00\">BV</text>\n</g>\n<!-- e24 -->\n<g id=\"node12\" class=\"node\">\n<title>e24</title>\n<ellipse fill=\"none\" stroke=\"black\" cx=\"183.45\" cy=\"-192\" rx=\"75.29\" ry=\"18\"/>\n<text text-anchor=\"middle\" x=\"183.45\" y=\"-188.3\" font-family=\"Times New Roman,serif\" font-size=\"14.00\">_unusually_x_deg</text>\n</g>\n<!-- e24&#45;&gt;e4 -->\n<g id=\"edge10\" class=\"edge\">\n<title>e24&#45;&gt;e4</title>\n<path fill=\"none\" stroke=\"black\" d=\"M183.45,-173.8C183.45,-162.16 183.45,-146.55 183.45,-133.24\"/>\n<polygon fill=\"black\" stroke=\"black\" points=\"186.95,-133.18 183.45,-123.18 179.95,-133.18 186.95,-133.18\"/>\n<text text-anchor=\"middle\" x=\"201.45\" y=\"-144.8\" font-family=\"Times New Roman,serif\" font-size=\"14.00\">ARG1</text>\n</g>\n<!-- e26 -->\n<g id=\"node13\" class=\"node\">\n<title>e26</title>\n<ellipse fill=\"none\" stroke=\"black\" cx=\"615.45\" cy=\"-192\" rx=\"68.79\" ry=\"18\"/>\n<text text-anchor=\"middle\" x=\"615.45\" y=\"-188.3\" font-family=\"Times New Roman,serif\" font-size=\"14.00\">_once_x_subord</text>\n</g>\n<!-- e26&#45;&gt;e4 -->\n<g id=\"edge12\" class=\"edge\">\n<title>e26&#45;&gt;e4</title>\n<path fill=\"none\" stroke=\"black\" d=\"M573.09,-177.68C536.05,-166.47 480.64,-150.75 431.45,-141 369.05,-128.63 352.42,-132.04 289.45,-123 280.94,-121.78 272.05,-120.44 263.2,-119.08\"/>\n<polygon fill=\"black\" stroke=\"black\" points=\"263.66,-115.61 253.24,-117.53 262.59,-122.53 263.66,-115.61\"/>\n<text text-anchor=\"middle\" x=\"511.45\" y=\"-144.8\" font-family=\"Times New Roman,serif\" font-size=\"14.00\">ARG1</text>\n</g>\n<!-- e35 -->\n<g id=\"node14\" class=\"node\">\n<title>e35</title>\n<ellipse fill=\"none\" stroke=\"black\" cx=\"805.45\" cy=\"-105\" rx=\"50.09\" ry=\"18\"/>\n<text text-anchor=\"middle\" x=\"805.45\" y=\"-101.3\" font-family=\"Times New Roman,serif\" font-size=\"14.00\">_enter_v_1</text>\n</g>\n<!-- e26&#45;&gt;e35 -->\n<g id=\"edge13\" class=\"edge\">\n<title>e26&#45;&gt;e35</title>\n<path fill=\"none\" stroke=\"black\" d=\"M642.5,-175.31C661.02,-164.9 686.32,-151.31 709.45,-141 725.55,-133.82 743.62,-126.95 759.7,-121.21\"/>\n<polygon fill=\"black\" stroke=\"black\" points=\"761.14,-124.42 769.42,-117.8 758.82,-117.81 761.14,-124.42\"/>\n<text text-anchor=\"middle\" x=\"727.45\" y=\"-144.8\" font-family=\"Times New Roman,serif\" font-size=\"14.00\">ARG2</text>\n</g>\n<!-- x30 -->\n<g id=\"node15\" class=\"node\">\n<title>x30</title>\n<ellipse fill=\"none\" stroke=\"black\" cx=\"1116.45\" cy=\"-18\" rx=\"27\" ry=\"18\"/>\n<text text-anchor=\"middle\" x=\"1116.45\" y=\"-14.3\" font-family=\"Times New Roman,serif\" font-size=\"14.00\">pron</text>\n</g>\n<!-- e35&#45;&gt;x30 -->\n<g id=\"edge15\" class=\"edge\">\n<title>e35&#45;&gt;x30</title>\n<path fill=\"none\" stroke=\"black\" d=\"M843.19,-93.02C850.25,-91 857.57,-88.92 864.45,-87 942.08,-65.34 1033.47,-40.96 1082.03,-28.09\"/>\n<polygon fill=\"black\" stroke=\"black\" points=\"1082.96,-31.46 1091.73,-25.52 1081.17,-24.7 1082.96,-31.46\"/>\n<text text-anchor=\"middle\" x=\"999.45\" y=\"-57.8\" font-family=\"Times New Roman,serif\" font-size=\"14.00\">ARG1</text>\n</g>\n<!-- x36 -->\n<g id=\"node17\" class=\"node\">\n<title>x36</title>\n<ellipse fill=\"none\" stroke=\"black\" cx=\"745.45\" cy=\"-18\" rx=\"48.19\" ry=\"18\"/>\n<text text-anchor=\"middle\" x=\"745.45\" y=\"-14.3\" font-family=\"Times New Roman,serif\" font-size=\"14.00\">_lung_n_1</text>\n</g>\n<!-- e35&#45;&gt;x36 -->\n<g id=\"edge16\" class=\"edge\">\n<title>e35&#45;&gt;x36</title>\n<path fill=\"none\" stroke=\"black\" d=\"M791.1,-87.64C786.27,-81.88 780.96,-75.28 776.45,-69 770.9,-61.29 765.29,-52.58 760.4,-44.62\"/>\n<polygon fill=\"black\" stroke=\"black\" points=\"763.39,-42.79 755.22,-36.04 757.39,-46.41 763.39,-42.79\"/>\n<text text-anchor=\"middle\" x=\"794.45\" y=\"-57.8\" font-family=\"Times New Roman,serif\" font-size=\"14.00\">ARG2</text>\n</g>\n<!-- _4 -->\n<g id=\"node16\" class=\"node\">\n<title>_4</title>\n<ellipse fill=\"none\" stroke=\"black\" cx=\"1363.45\" cy=\"-105\" rx=\"48.99\" ry=\"18\"/>\n<text text-anchor=\"middle\" x=\"1363.45\" y=\"-101.3\" font-family=\"Times New Roman,serif\" font-size=\"14.00\">pronoun_q</text>\n</g>\n<!-- _4&#45;&gt;x30 -->\n<g id=\"edge14\" class=\"edge\">\n<title>_4&#45;&gt;x30</title>\n<path fill=\"none\" stroke=\"black\" d=\"M1329.1,-92.18C1281.68,-75.86 1196.71,-46.62 1149.81,-30.48\"/>\n<polygon fill=\"black\" stroke=\"black\" points=\"1150.73,-27.09 1140.13,-27.15 1148.45,-33.71 1150.73,-27.09\"/>\n<text text-anchor=\"middle\" x=\"1263.95\" y=\"-57.8\" font-family=\"Times New Roman,serif\" font-size=\"14.00\">BV</text>\n</g>\n<!-- _5 -->\n<g id=\"node18\" class=\"node\">\n<title>_5</title>\n<ellipse fill=\"none\" stroke=\"black\" cx=\"703.45\" cy=\"-105\" rx=\"34.39\" ry=\"18\"/>\n<text text-anchor=\"middle\" x=\"703.45\" y=\"-101.3\" font-family=\"Times New Roman,serif\" font-size=\"14.00\">_the_q</text>\n</g>\n<!-- _5&#45;&gt;x36 -->\n<g id=\"edge17\" class=\"edge\">\n<title>_5&#45;&gt;x36</title>\n<path fill=\"none\" stroke=\"black\" d=\"M711.74,-87.21C717.73,-75.1 725.91,-58.53 732.72,-44.76\"/>\n<polygon fill=\"black\" stroke=\"black\" points=\"735.87,-46.27 737.17,-35.76 729.6,-43.17 735.87,-46.27\"/>\n<text text-anchor=\"middle\" x=\"736.95\" y=\"-57.8\" font-family=\"Times New Roman,serif\" font-size=\"14.00\">BV</text>\n</g>\n<!-- e42&#45;&gt;e26 -->\n<g id=\"edge18\" class=\"edge\">\n<title>e42&#45;&gt;e26</title>\n<path fill=\"none\" stroke=\"black\" d=\"M758.51,-261.45C746.25,-250.8 729.23,-237.27 712.45,-228 699.21,-220.68 684.14,-214.38 669.89,-209.23\"/>\n<polygon fill=\"black\" stroke=\"black\" points=\"670.79,-205.83 660.19,-205.84 668.48,-212.44 670.79,-205.83\"/>\n<text text-anchor=\"middle\" x=\"753.45\" y=\"-231.8\" font-family=\"Times New Roman,serif\" font-size=\"14.00\">ARG1</text>\n</g>\n<!-- e61 -->\n<g id=\"node20\" class=\"node\">\n<title>e61</title>\n<ellipse fill=\"none\" stroke=\"black\" cx=\"1037.45\" cy=\"-192\" rx=\"51.99\" ry=\"18\"/>\n<text text-anchor=\"middle\" x=\"1037.45\" y=\"-188.3\" font-family=\"Times New Roman,serif\" font-size=\"14.00\">_cause_v_1</text>\n</g>\n<!-- e42&#45;&gt;e61 -->\n<g id=\"edge19\" class=\"edge\">\n<title>e42&#45;&gt;e61</title>\n<path fill=\"none\" stroke=\"black\" d=\"M817.52,-264.63C864.66,-249.27 941.8,-224.15 991.06,-208.11\"/>\n<polygon fill=\"black\" stroke=\"black\" points=\"992.41,-211.35 1000.83,-204.93 990.24,-204.69 992.41,-211.35\"/>\n<text text-anchor=\"middle\" x=\"941.45\" y=\"-231.8\" font-family=\"Times New Roman,serif\" font-size=\"14.00\">ARG2</text>\n</g>\n<!-- x49 -->\n<g id=\"node23\" class=\"node\">\n<title>x49</title>\n<ellipse fill=\"none\" stroke=\"black\" cx=\"950.45\" cy=\"-105\" rx=\"77.19\" ry=\"18\"/>\n<text text-anchor=\"middle\" x=\"950.45\" y=\"-101.3\" font-family=\"Times New Roman,serif\" font-size=\"14.00\">_exposure_n_of&#45;to</text>\n</g>\n<!-- e61&#45;&gt;x49 -->\n<g id=\"edge26\" class=\"edge\">\n<title>e61&#45;&gt;x49</title>\n<path fill=\"none\" stroke=\"black\" d=\"M1008.55,-176.87C998.89,-171.26 988.53,-164.17 980.45,-156 973.62,-149.1 967.69,-140.35 962.96,-132.11\"/>\n<polygon fill=\"black\" stroke=\"black\" points=\"965.95,-130.29 958.13,-123.14 959.79,-133.61 965.95,-130.29\"/>\n<text text-anchor=\"middle\" x=\"998.45\" y=\"-144.8\" font-family=\"Times New Roman,serif\" font-size=\"14.00\">ARG1</text>\n</g>\n<!-- x62 -->\n<g id=\"node28\" class=\"node\">\n<title>x62</title>\n<ellipse fill=\"none\" stroke=\"black\" cx=\"1230.45\" cy=\"-105\" rx=\"66.09\" ry=\"18\"/>\n<text text-anchor=\"middle\" x=\"1230.45\" y=\"-101.3\" font-family=\"Times New Roman,serif\" font-size=\"14.00\">_symptom_n_1</text>\n</g>\n<!-- e61&#45;&gt;x62 -->\n<g id=\"edge27\" class=\"edge\">\n<title>e61&#45;&gt;x62</title>\n<path fill=\"none\" stroke=\"black\" d=\"M1054.96,-174.91C1069.99,-161.21 1089.94,-143.38 1094.45,-141 1115.76,-129.74 1140.9,-121.96 1163.72,-116.65\"/>\n<polygon fill=\"black\" stroke=\"black\" points=\"1164.68,-120.02 1173.69,-114.45 1163.17,-113.18 1164.68,-120.02\"/>\n<text text-anchor=\"middle\" x=\"1112.45\" y=\"-144.8\" font-family=\"Times New Roman,serif\" font-size=\"14.00\">ARG2</text>\n</g>\n<!-- e46 -->\n<g id=\"node21\" class=\"node\">\n<title>e46</title>\n<ellipse fill=\"none\" stroke=\"black\" cx=\"633.45\" cy=\"-279\" rx=\"57.69\" ry=\"18\"/>\n<text text-anchor=\"middle\" x=\"633.45\" y=\"-275.3\" font-family=\"Times New Roman,serif\" font-size=\"14.00\">_even_x_deg</text>\n</g>\n<!-- _6 -->\n<g id=\"node22\" class=\"node\">\n<title>_6</title>\n<ellipse fill=\"none\" stroke=\"black\" cx=\"737.45\" cy=\"-192\" rx=\"35.19\" ry=\"18\"/>\n<text text-anchor=\"middle\" x=\"737.45\" y=\"-188.3\" font-family=\"Times New Roman,serif\" font-size=\"14.00\">udef_q</text>\n</g>\n<!-- e46&#45;&gt;_6 -->\n<g id=\"edge20\" class=\"edge\">\n<title>e46&#45;&gt;_6</title>\n<path fill=\"none\" stroke=\"black\" d=\"M645.74,-260.95C653.73,-250.62 664.8,-237.63 676.45,-228 684.63,-221.23 694.3,-215.02 703.5,-209.77\"/>\n<polygon fill=\"black\" stroke=\"black\" points=\"705.38,-212.73 712.47,-204.86 702.01,-206.6 705.38,-212.73\"/>\n<text text-anchor=\"middle\" x=\"694.45\" y=\"-231.8\" font-family=\"Times New Roman,serif\" font-size=\"14.00\">ARG1</text>\n</g>\n<!-- _6&#45;&gt;x49 -->\n<g id=\"edge21\" class=\"edge\">\n<title>_6&#45;&gt;x49</title>\n<path fill=\"none\" stroke=\"black\" d=\"M761.24,-178.57C782.26,-167.85 813.93,-152.35 842.45,-141 859.13,-134.36 877.62,-128.01 894.52,-122.59\"/>\n<polygon fill=\"black\" stroke=\"black\" points=\"895.78,-125.86 904.26,-119.51 893.67,-119.19 895.78,-125.86\"/>\n<text text-anchor=\"middle\" x=\"851.95\" y=\"-144.8\" font-family=\"Times New Roman,serif\" font-size=\"14.00\">BV</text>\n</g>\n<!-- e52 -->\n<g id=\"node24\" class=\"node\">\n<title>e52</title>\n<ellipse fill=\"none\" stroke=\"black\" cx=\"839.45\" cy=\"-192\" rx=\"48.99\" ry=\"18\"/>\n<text text-anchor=\"middle\" x=\"839.45\" y=\"-188.3\" font-family=\"Times New Roman,serif\" font-size=\"14.00\">_brief_a_1</text>\n</g>\n<!-- e52&#45;&gt;x49 -->\n<g id=\"edge22\" class=\"edge\">\n<title>e52&#45;&gt;x49</title>\n<path fill=\"none\" stroke=\"black\" d=\"M850.5,-174.15C858.01,-163.65 868.69,-150.39 880.45,-141 887.7,-135.21 896.06,-130.02 904.43,-125.52\"/>\n<polygon fill=\"black\" stroke=\"black\" points=\"906.14,-128.57 913.46,-120.91 902.96,-122.34 906.14,-128.57\"/>\n<text text-anchor=\"middle\" x=\"898.45\" y=\"-144.8\" font-family=\"Times New Roman,serif\" font-size=\"14.00\">ARG1</text>\n</g>\n<!-- e54 -->\n<g id=\"node25\" class=\"node\">\n<title>e54</title>\n<ellipse fill=\"none\" stroke=\"black\" cx=\"936.45\" cy=\"-192\" rx=\"30.59\" ry=\"18\"/>\n<text text-anchor=\"middle\" x=\"936.45\" y=\"-188.3\" font-family=\"Times New Roman,serif\" font-size=\"14.00\">_to_p</text>\n</g>\n<!-- e54&#45;&gt;x49 -->\n<g id=\"edge23\" class=\"edge\">\n<title>e54&#45;&gt;x49</title>\n<path fill=\"none\" stroke=\"black\" d=\"M926.22,-174.64C921.38,-164.8 917.45,-152.08 921.45,-141 922.73,-137.45 924.54,-134.01 926.64,-130.75\"/>\n<polygon fill=\"black\" stroke=\"black\" points=\"929.53,-132.74 932.72,-122.64 923.92,-128.54 929.53,-132.74\"/>\n<text text-anchor=\"middle\" x=\"939.45\" y=\"-144.8\" font-family=\"Times New Roman,serif\" font-size=\"14.00\">ARG1</text>\n</g>\n<!-- x55 -->\n<g id=\"node26\" class=\"node\">\n<title>x55</title>\n<ellipse fill=\"none\" stroke=\"black\" cx=\"1099.45\" cy=\"-105\" rx=\"27\" ry=\"18\"/>\n<text text-anchor=\"middle\" x=\"1099.45\" y=\"-101.3\" font-family=\"Times New Roman,serif\" font-size=\"14.00\">pron</text>\n</g>\n<!-- e54&#45;&gt;x55 -->\n<g id=\"edge24\" class=\"edge\">\n<title>e54&#45;&gt;x55</title>\n<path fill=\"none\" stroke=\"black\" d=\"M960.74,-180.61C982.31,-171.35 1011.21,-158.83 1016.45,-156 1027.19,-150.2 1029.06,-147.41 1039.45,-141 1049.58,-134.74 1060.83,-128.11 1070.82,-122.31\"/>\n<polygon fill=\"black\" stroke=\"black\" points=\"1072.66,-125.29 1079.57,-117.26 1069.16,-119.23 1072.66,-125.29\"/>\n<text text-anchor=\"middle\" x=\"1057.45\" y=\"-144.8\" font-family=\"Times New Roman,serif\" font-size=\"14.00\">ARG2</text>\n</g>\n<!-- _7 -->\n<g id=\"node27\" class=\"node\">\n<title>_7</title>\n<ellipse fill=\"none\" stroke=\"black\" cx=\"1156.45\" cy=\"-192\" rx=\"48.99\" ry=\"18\"/>\n<text text-anchor=\"middle\" x=\"1156.45\" y=\"-188.3\" font-family=\"Times New Roman,serif\" font-size=\"14.00\">pronoun_q</text>\n</g>\n<!-- _7&#45;&gt;x55 -->\n<g id=\"edge25\" class=\"edge\">\n<title>_7&#45;&gt;x55</title>\n<path fill=\"none\" stroke=\"black\" d=\"M1150.76,-173.98C1146.97,-163.91 1141.41,-151.18 1134.45,-141 1131.03,-136 1126.84,-131.1 1122.56,-126.63\"/>\n<polygon fill=\"black\" stroke=\"black\" points=\"1124.98,-124.09 1115.41,-119.55 1120.06,-129.07 1124.98,-124.09\"/>\n<text text-anchor=\"middle\" x=\"1151.95\" y=\"-144.8\" font-family=\"Times New Roman,serif\" font-size=\"14.00\">BV</text>\n</g>\n<!-- _8 -->\n<g id=\"node29\" class=\"node\">\n<title>_8</title>\n<ellipse fill=\"none\" stroke=\"black\" cx=\"1388.45\" cy=\"-192\" rx=\"35.19\" ry=\"18\"/>\n<text text-anchor=\"middle\" x=\"1388.45\" y=\"-188.3\" font-family=\"Times New Roman,serif\" font-size=\"14.00\">udef_q</text>\n</g>\n<!-- _8&#45;&gt;x62 -->\n<g id=\"edge28\" class=\"edge\">\n<title>_8&#45;&gt;x62</title>\n<path fill=\"none\" stroke=\"black\" d=\"M1365.33,-178.12C1346.98,-167.95 1320.64,-153.43 1297.45,-141 1288.25,-136.07 1278.3,-130.83 1268.96,-125.94\"/>\n<polygon fill=\"black\" stroke=\"black\" points=\"1270.35,-122.72 1259.87,-121.2 1267.12,-128.93 1270.35,-122.72\"/>\n<text text-anchor=\"middle\" x=\"1333.95\" y=\"-144.8\" font-family=\"Times New Roman,serif\" font-size=\"14.00\">BV</text>\n</g>\n<!-- e67 -->\n<g id=\"node30\" class=\"node\">\n<title>e67</title>\n<ellipse fill=\"none\" stroke=\"black\" cx=\"1279.45\" cy=\"-192\" rx=\"55.79\" ry=\"18\"/>\n<text text-anchor=\"middle\" x=\"1279.45\" y=\"-188.3\" font-family=\"Times New Roman,serif\" font-size=\"14.00\">_show_v_up</text>\n</g>\n<!-- e67&#45;&gt;x62 -->\n<g id=\"edge29\" class=\"edge\">\n<title>e67&#45;&gt;x62</title>\n<path fill=\"none\" stroke=\"black\" d=\"M1269.77,-174.21C1262.83,-162.18 1253.36,-145.75 1245.45,-132.03\"/>\n<polygon fill=\"black\" stroke=\"black\" points=\"1248.3,-129.96 1240.28,-123.05 1242.24,-133.46 1248.3,-129.96\"/>\n<text text-anchor=\"middle\" x=\"1275.45\" y=\"-144.8\" font-family=\"Times New Roman,serif\" font-size=\"14.00\">ARG1</text>\n</g>\n<!-- e68 -->\n<g id=\"node31\" class=\"node\">\n<title>e68</title>\n<ellipse fill=\"none\" stroke=\"black\" cx=\"1360.45\" cy=\"-279\" rx=\"46.59\" ry=\"18\"/>\n<text text-anchor=\"middle\" x=\"1360.45\" y=\"-275.3\" font-family=\"Times New Roman,serif\" font-size=\"14.00\">loc_nonsp</text>\n</g>\n<!-- e68&#45;&gt;e67 -->\n<g id=\"edge30\" class=\"edge\">\n<title>e68&#45;&gt;e67</title>\n<path fill=\"none\" stroke=\"black\" d=\"M1344.83,-261.61C1332.73,-248.91 1315.79,-231.13 1302.18,-216.86\"/>\n<polygon fill=\"black\" stroke=\"black\" points=\"1304.45,-214.16 1295.02,-209.34 1299.38,-218.99 1304.45,-214.16\"/>\n<text text-anchor=\"middle\" x=\"1342.45\" y=\"-231.8\" font-family=\"Times New Roman,serif\" font-size=\"14.00\">ARG1</text>\n</g>\n<!-- x69 -->\n<g id=\"node32\" class=\"node\">\n<title>x69</title>\n<ellipse fill=\"none\" stroke=\"black\" cx=\"1498.45\" cy=\"-192\" rx=\"57.39\" ry=\"18\"/>\n<text text-anchor=\"middle\" x=\"1498.45\" y=\"-188.3\" font-family=\"Times New Roman,serif\" font-size=\"14.00\">_decade_n_1</text>\n</g>\n<!-- e68&#45;&gt;x69 -->\n<g id=\"edge31\" class=\"edge\">\n<title>e68&#45;&gt;x69</title>\n<path fill=\"none\" stroke=\"black\" d=\"M1383.84,-263.24C1399.76,-253.24 1421.33,-239.74 1440.45,-228 1448.17,-223.26 1456.49,-218.2 1464.36,-213.45\"/>\n<polygon fill=\"black\" stroke=\"black\" points=\"1466.23,-216.41 1472.99,-208.25 1462.61,-210.41 1466.23,-216.41\"/>\n<text text-anchor=\"middle\" x=\"1458.45\" y=\"-231.8\" font-family=\"Times New Roman,serif\" font-size=\"14.00\">ARG2</text>\n</g>\n<!-- _9 -->\n<g id=\"node33\" class=\"node\">\n<title>_9</title>\n<ellipse fill=\"none\" stroke=\"black\" cx=\"1470.45\" cy=\"-279\" rx=\"35.19\" ry=\"18\"/>\n<text text-anchor=\"middle\" x=\"1470.45\" y=\"-275.3\" font-family=\"Times New Roman,serif\" font-size=\"14.00\">udef_q</text>\n</g>\n<!-- _9&#45;&gt;x69 -->\n<g id=\"edge32\" class=\"edge\">\n<title>_9&#45;&gt;x69</title>\n<path fill=\"none\" stroke=\"black\" d=\"M1475.31,-260.79C1478.13,-251.11 1481.82,-238.83 1485.45,-228 1486.37,-225.23 1487.38,-222.36 1488.4,-219.5\"/>\n<polygon fill=\"black\" stroke=\"black\" points=\"1491.72,-220.61 1491.88,-210.01 1485.15,-218.2 1491.72,-220.61\"/>\n<text text-anchor=\"middle\" x=\"1494.95\" y=\"-231.8\" font-family=\"Times New Roman,serif\" font-size=\"14.00\">BV</text>\n</g>\n<!-- e74 -->\n<g id=\"node34\" class=\"node\">\n<title>e74</title>\n<ellipse fill=\"none\" stroke=\"black\" cx=\"1570.45\" cy=\"-279\" rx=\"46.59\" ry=\"18\"/>\n<text text-anchor=\"middle\" x=\"1570.45\" y=\"-275.3\" font-family=\"Times New Roman,serif\" font-size=\"14.00\">loc_nonsp</text>\n</g>\n<!-- e74&#45;&gt;x69 -->\n<g id=\"edge33\" class=\"edge\">\n<title>e74&#45;&gt;x69</title>\n<path fill=\"none\" stroke=\"black\" d=\"M1556.56,-261.61C1545.98,-249.11 1531.22,-231.69 1519.22,-217.53\"/>\n<polygon fill=\"black\" stroke=\"black\" points=\"1521.67,-215 1512.53,-209.63 1516.33,-219.52 1521.67,-215\"/>\n<text text-anchor=\"middle\" x=\"1556.45\" y=\"-231.8\" font-family=\"Times New Roman,serif\" font-size=\"14.00\">ARG1</text>\n</g>\n<!-- x75 -->\n<g id=\"node35\" class=\"node\">\n<title>x75</title>\n<ellipse fill=\"none\" stroke=\"black\" cx=\"1685.45\" cy=\"-192\" rx=\"36\" ry=\"18\"/>\n<text text-anchor=\"middle\" x=\"1685.45\" y=\"-188.3\" font-family=\"Times New Roman,serif\" font-size=\"14.00\">time_n</text>\n</g>\n<!-- e74&#45;&gt;x75 -->\n<g id=\"edge34\" class=\"edge\">\n<title>e74&#45;&gt;x75</title>\n<path fill=\"none\" stroke=\"black\" d=\"M1591.01,-262.8C1609.74,-248.95 1637.56,-228.4 1658.15,-213.17\"/>\n<polygon fill=\"black\" stroke=\"black\" points=\"1660.25,-215.98 1666.21,-207.22 1656.09,-210.35 1660.25,-215.98\"/>\n<text text-anchor=\"middle\" x=\"1652.45\" y=\"-231.8\" font-family=\"Times New Roman,serif\" font-size=\"14.00\">ARG2</text>\n</g>\n<!-- _10 -->\n<g id=\"node36\" class=\"node\">\n<title>_10</title>\n<ellipse fill=\"none\" stroke=\"black\" cx=\"1815.45\" cy=\"-279\" rx=\"61.99\" ry=\"18\"/>\n<text text-anchor=\"middle\" x=\"1815.45\" y=\"-275.3\" font-family=\"Times New Roman,serif\" font-size=\"14.00\">def_explicit_q</text>\n</g>\n<!-- _10&#45;&gt;x75 -->\n<g id=\"edge35\" class=\"edge\">\n<title>_10&#45;&gt;x75</title>\n<path fill=\"none\" stroke=\"black\" d=\"M1791.3,-262.21C1769.68,-248.08 1737.93,-227.32 1714.84,-212.22\"/>\n<polygon fill=\"black\" stroke=\"black\" points=\"1716.74,-209.28 1706.46,-206.74 1712.91,-215.14 1716.74,-209.28\"/>\n<text text-anchor=\"middle\" x=\"1766.95\" y=\"-231.8\" font-family=\"Times New Roman,serif\" font-size=\"14.00\">BV</text>\n</g>\n<!-- e80 -->\n<g id=\"node37\" class=\"node\">\n<title>e80</title>\n<ellipse fill=\"none\" stroke=\"black\" cx=\"1685.45\" cy=\"-279\" rx=\"50.89\" ry=\"18\"/>\n<text text-anchor=\"middle\" x=\"1685.45\" y=\"-275.3\" font-family=\"Times New Roman,serif\" font-size=\"14.00\">_late_a_for</text>\n</g>\n<!-- e80&#45;&gt;x75 -->\n<g id=\"edge36\" class=\"edge\">\n<title>e80&#45;&gt;x75</title>\n<path fill=\"none\" stroke=\"black\" d=\"M1685.45,-260.8C1685.45,-249.16 1685.45,-233.55 1685.45,-220.24\"/>\n<polygon fill=\"black\" stroke=\"black\" points=\"1688.95,-220.18 1685.45,-210.18 1681.95,-220.18 1688.95,-220.18\"/>\n<text text-anchor=\"middle\" x=\"1703.45\" y=\"-231.8\" font-family=\"Times New Roman,serif\" font-size=\"14.00\">ARG1</text>\n</g>\n<!-- e81 -->\n<g id=\"node38\" class=\"node\">\n<title>e81</title>\n<ellipse fill=\"none\" stroke=\"black\" cx=\"1685.45\" cy=\"-366\" rx=\"30.59\" ry=\"18\"/>\n<text text-anchor=\"middle\" x=\"1685.45\" y=\"-362.3\" font-family=\"Times New Roman,serif\" font-size=\"14.00\">comp</text>\n</g>\n<!-- e81&#45;&gt;e80 -->\n<g id=\"edge37\" class=\"edge\">\n<title>e81&#45;&gt;e80</title>\n<path fill=\"none\" stroke=\"black\" d=\"M1685.45,-347.8C1685.45,-336.16 1685.45,-320.55 1685.45,-307.24\"/>\n<polygon fill=\"black\" stroke=\"black\" points=\"1688.95,-307.18 1685.45,-297.18 1681.95,-307.18 1688.95,-307.18\"/>\n<text text-anchor=\"middle\" x=\"1703.45\" y=\"-318.8\" font-family=\"Times New Roman,serif\" font-size=\"14.00\">ARG1</text>\n</g>\n<!-- _11 -->\n<g id=\"node39\" class=\"node\">\n<title>_11</title>\n<ellipse fill=\"none\" stroke=\"black\" cx=\"933.45\" cy=\"-366\" rx=\"35.19\" ry=\"18\"/>\n<text text-anchor=\"middle\" x=\"933.45\" y=\"-362.3\" font-family=\"Times New Roman,serif\" font-size=\"14.00\">udef_q</text>\n</g>\n<!-- _11&#45;&gt;x84 -->\n<g id=\"edge38\" class=\"edge\">\n<title>_11&#45;&gt;x84</title>\n<path fill=\"none\" stroke=\"black\" d=\"M933.45,-347.8C933.45,-336.16 933.45,-320.55 933.45,-307.24\"/>\n<polygon fill=\"black\" stroke=\"black\" points=\"936.95,-307.18 933.45,-297.18 929.95,-307.18 936.95,-307.18\"/>\n<text text-anchor=\"middle\" x=\"942.95\" y=\"-318.8\" font-family=\"Times New Roman,serif\" font-size=\"14.00\">BV</text>\n</g>\n</g>\n</svg>\n",
      "text/plain": [
       "<graphviz.graphs.Digraph at 0x180c6447610>"
      ]
     },
     "execution_count": 84,
     "metadata": {},
     "output_type": "execute_result"
    }
   ],
   "source": [
    "eds2graph(te)"
   ]
  },
  {
   "cell_type": "code",
   "execution_count": null,
   "id": "c6d6ac32",
   "metadata": {},
   "outputs": [],
   "source": []
  }
 ],
 "metadata": {
  "kernelspec": {
   "display_name": "Python 3.8.0 ('l98')",
   "language": "python",
   "name": "python3"
  },
  "language_info": {
   "codemirror_mode": {
    "name": "ipython",
    "version": 3
   },
   "file_extension": ".py",
   "mimetype": "text/x-python",
   "name": "python",
   "nbconvert_exporter": "python",
   "pygments_lexer": "ipython3",
   "version": "3.8.0"
  },
  "vscode": {
   "interpreter": {
    "hash": "e3a5b34d199d32ac681692876dde0b10aa04634658ccfe4d881a5c9f22ae3dcc"
   }
  }
 },
 "nbformat": 4,
 "nbformat_minor": 5
}
