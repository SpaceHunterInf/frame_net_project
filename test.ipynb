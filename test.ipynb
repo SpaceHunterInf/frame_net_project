{
 "cells": [
  {
   "cell_type": "code",
   "execution_count": 1,
   "metadata": {},
   "outputs": [],
   "source": [
    "from delphin.codecs import eds\n",
    "from delphin.eds import *\n",
    "import torch\n",
    "import json\n",
    "import sys, os\n",
    "from utils import *\n",
    "from tqdm import tqdm\n",
    "from sklearn.model_selection import train_test_split\n",
    "from prepare_data import *\n",
    "import joblib\n",
    "from sentence_transformers import SentenceTransformer\n",
    "model = SentenceTransformer('all-MiniLM-L6-v2')\n",
    "sentence_encoder_model = model"
   ]
  },
  {
   "cell_type": "code",
   "execution_count": 2,
   "metadata": {},
   "outputs": [],
   "source": [
    "fn_frame2id = {}\n",
    "fn_role2id = {}\n",
    "\n",
    "with open('fn_frames.json') as f:\n",
    "    fn_frames = json.load(f)\n",
    "counter = 0\n",
    "for k in fn_frames.keys():\n",
    "    fn_frame2id[k.lower()] = counter\n",
    "    counter += 1\n",
    "\n",
    "with open('fn_roles.json') as f:\n",
    "    fn_roles = json.load(f)\n",
    "counter = 0\n",
    "for k in fn_roles.keys():\n",
    "    fn_role2id[k.lower()] = counter\n",
    "    counter += 1\n",
    "fn_role2id['****'] = counter #for no assigned role\n",
    "\n",
    "with open('fn_frame2id.json','w') as f:\n",
    "    f.write(json.dumps(fn_frame2id, indent=2))\n",
    "    f.close()\n",
    "\n",
    "with open('fn_role2id.json','w') as f:\n",
    "    f.write(json.dumps(fn_frame2id, indent=2))\n",
    "    f.close()"
   ]
  },
  {
   "cell_type": "code",
   "execution_count": 4,
   "metadata": {},
   "outputs": [
    {
     "name": "stderr",
     "output_type": "stream",
     "text": [
      "data: 100%|██████████| 18118/18118 [01:26<00:00, 209.68it/s]\n"
     ]
    }
   ],
   "source": [
    "node_classification_data = []\n",
    "edge_classification_data = []\n",
    "\n",
    "with open('filtered_data.json', 'r') as f:\n",
    "    data = json.load(f)\n",
    "\n",
    "with open('features_config.json', 'r') as f:\n",
    "    feature_dict = json.load(f)\n",
    "\n",
    "for k in tqdm(data.keys(), desc='data'):\n",
    "    s, _, _ = get_from_file('deepbank_raw/' + k)\n",
    "    current_eds = loads(data[k])[0]\n",
    "    for node in current_eds.nodes:\n",
    "        if '-fn.' in node.predicate: \n",
    "            target_fn_frame = node.predicate.split('-fn.')[-1]\n",
    "            verb_data = {'sentence':s, 'eds':current_eds, 'verb_id':node.id, 'target_fn_frame':target_fn_frame.lower()}\n",
    "            node_classification_data.append(verb_data)\n",
    "\n",
    "            for key in node.edges:\n",
    "                if not '-fn.' in key:\n",
    "                    target_fn_role = '****'\n",
    "                else:\n",
    "                    target_fn_role = key.split('-fn.')[-1]\n",
    "                edge_data = {'sentence':s, 'eds':current_eds, 'start':node.id, 'end':node.edges[key], 'target_fn_role':target_fn_role.lower()}\n",
    "                edge_classification_data.append(edge_data)\n",
    "with open('verb_data.pkl','wb') as f:\n",
    "    joblib.dump(node_classification_data, f)\n",
    "\n",
    "with open('edge_data.pkl','wb') as f:\n",
    "    joblib.dump(edge_classification_data, f)\n"
   ]
  },
  {
   "cell_type": "code",
   "execution_count": null,
   "metadata": {},
   "outputs": [],
   "source": [
    "\n",
    "max_length = 50"
   ]
  },
  {
   "cell_type": "code",
   "execution_count": null,
   "metadata": {},
   "outputs": [],
   "source": [
    "t = model.encode('Iloveyou')\n",
    "t = torch.from_numpy(t)"
   ]
  },
  {
   "cell_type": "code",
   "execution_count": null,
   "metadata": {},
   "outputs": [],
   "source": [
    "t"
   ]
  },
  {
   "cell_type": "code",
   "execution_count": null,
   "metadata": {},
   "outputs": [],
   "source": [
    "torch.cat((t, torch.tensor([1,2,3])), 0)"
   ]
  },
  {
   "cell_type": "code",
   "execution_count": null,
   "metadata": {},
   "outputs": [],
   "source": [
    "ts, tet, te = get_from_file('deepbank_raw/20003001')"
   ]
  },
  {
   "cell_type": "code",
   "execution_count": null,
   "metadata": {},
   "outputs": [],
   "source": [
    "te.nodes[0].properties"
   ]
  },
  {
   "cell_type": "code",
   "execution_count": null,
   "metadata": {},
   "outputs": [],
   "source": [
    "def eds2geograph(eds:EDS):\n",
    "    nodes2idx = {}\n",
    "    counter = 0\n",
    "\n",
    "    nodes = []\n",
    "    for n in eds.nodes:\n",
    "        nodes2idx[n.id] = counter\n",
    "        counter += 1\n",
    "        nodes.append(generate_feature(n))\n",
    "\n",
    "    edges = []\n",
    "    for n in eds.nodes:\n",
    "        for key in n.edges:\n",
    "            edge = [nodes2idx[n.id], nodes2idx[n.edges[key]]]\n",
    "            edges.append(edge)\n",
    "    \n",
    "    return nodes, edges"
   ]
  },
  {
   "cell_type": "code",
   "execution_count": null,
   "metadata": {},
   "outputs": [],
   "source": [
    "names = [line.rstrip() for line in open('same_eds_ids.txt','r')]\n",
    "type_dict = {}\n",
    "property_dict = {}\n",
    "carg = []\n",
    "predicate = {}"
   ]
  },
  {
   "cell_type": "code",
   "execution_count": null,
   "metadata": {},
   "outputs": [],
   "source": [
    "for n in tqdm(names, desc='files'):\n",
    "    sent, text, eds = get_from_file('deepbank_raw/' + n)\n",
    "    for node in eds.nodes:\n",
    "        if node.type in type_dict.keys():\n",
    "            type_dict[node.type] +=1\n",
    "        else:\n",
    "            type_dict[node.type] = 1\n",
    "        for key in node.properties:\n",
    "            property_dict[key] = {}\n",
    "        carg.append(node.carg)\n",
    "        if node.predicate in predicate.keys():\n",
    "            predicate[node.predicate] +=1\n",
    "        else:\n",
    "            predicate[node.predicate] = 1"
   ]
  },
  {
   "cell_type": "code",
   "execution_count": null,
   "metadata": {},
   "outputs": [],
   "source": [
    "for n in tqdm(names, desc='files'):\n",
    "    sent, text, eds = get_from_file('deepbank_raw/' + n)\n",
    "    for node in eds.nodes:\n",
    "        for key in node.properties.keys():\n",
    "            val = node.properties[key]\n",
    "            if val in property_dict[key].keys():\n",
    "                property_dict[key][val] += 1\n",
    "            else:\n",
    "                property_dict[key][val] = 1\n"
   ]
  },
  {
   "cell_type": "code",
   "execution_count": null,
   "metadata": {},
   "outputs": [],
   "source": [
    "print(property_dict)"
   ]
  },
  {
   "cell_type": "code",
   "execution_count": null,
   "metadata": {},
   "outputs": [],
   "source": [
    "predicate_dict ={'_n_of':847, '_v_':3186, '_n_':3973, 'proper_q':0, 'compound':0, 'measure':0,'x_deg':0,'vb_':0,'_p':0,'x_subord':0, 'udef_q':0, 'loc_nonsp':0, '_a_':0, 'vbg_':0, 'vbp_':0, 'vbd_':0,'vbn_':0,'named':0, 'pronoun_q':0, 'jj_':0, 'nn_':0, 'nns_':0}"
   ]
  },
  {
   "cell_type": "code",
   "execution_count": null,
   "metadata": {},
   "outputs": [],
   "source": [
    "for x in predicate_dict.keys():\n",
    "    for key in [x for x in predicate.keys()]:\n",
    "        if x in key:\n",
    "            predicate.pop(key)\n",
    "len(predicate)"
   ]
  },
  {
   "cell_type": "code",
   "execution_count": null,
   "metadata": {},
   "outputs": [],
   "source": [
    "from prepare_data import *"
   ]
  },
  {
   "cell_type": "code",
   "execution_count": null,
   "metadata": {},
   "outputs": [],
   "source": [
    "features = {}\n",
    "features['type'] = [x for x in type_dict.keys()]\n",
    "features['property'] = property_dict\n",
    "features['predicate'] = [x for x in predicate_dict.keys()] + [x for x in predicate.keys()]"
   ]
  },
  {
   "cell_type": "code",
   "execution_count": null,
   "metadata": {},
   "outputs": [],
   "source": [
    "with open('features_config.json','w') as f:\n",
    "    f.write(json.dumps(features, indent=2))\n",
    "    f.close"
   ]
  },
  {
   "cell_type": "code",
   "execution_count": null,
   "metadata": {},
   "outputs": [],
   "source": [
    "import graphviz\n",
    "def eds2graph(eds:EDS):\n",
    "    g = graphviz.Digraph()\n",
    "    for node in eds.nodes:\n",
    "        if '-fn.' in node.predicate:\n",
    "            g.node(node.id, label=node.predicate, color = 'red', fontcolor = 'red')\n",
    "        else:\n",
    "            g.node(node.id, label=node.predicate)\n",
    "        for key in node.edges:\n",
    "            if '-FN.' in key:\n",
    "                g.edge(node.id, node.edges[key], label=key, color ='blue', fontcolor = 'blue')\n",
    "            else:\n",
    "                g.edge(node.id, node.edges[key], label=key)\n",
    "        \n",
    "    return g"
   ]
  },
  {
   "cell_type": "code",
   "execution_count": null,
   "metadata": {},
   "outputs": [],
   "source": [
    "eds2graph(te)"
   ]
  },
  {
   "cell_type": "code",
   "execution_count": null,
   "metadata": {},
   "outputs": [],
   "source": [
    "sem1 = 'nw/wsj/00/wsj_0002.parse 0 16 gold name-v 29.3 IN name.01 null ----- 0:2*17:1-ARG1=Theme 16:0-rel 18:2-ARG2=Result' \n",
    "sem2 = 'nw/wsj/00/wsj_0003.parse 0 9 gold make-v 26.1-1 Manufacturing make.01 null ----- 7:1-ARG0=Agent;Manufacturer 9:0-rel 10:1-ARG1=Product;Product' \n",
    "sem3 = 'nw/wsj/00/wsj_0003.parse 0 14 gold cause-v 27 Causation cause.01 1 ----- 0:3-ARG0=Cause;Cause 14:0-rel 15:2-ARG1=Theme;Effect' \n",
    "\n",
    "\n",
    "semlinks_dict = {'20003001':[SemLinkAnnotation(sem1), SemLinkAnnotation(sem2), SemLinkAnnotation(sem3)]}"
   ]
  },
  {
   "cell_type": "code",
   "execution_count": null,
   "metadata": {},
   "outputs": [],
   "source": [
    "from batch_projection import *"
   ]
  },
  {
   "cell_type": "code",
   "execution_count": null,
   "metadata": {},
   "outputs": [],
   "source": [
    "deep = sentence_eds('deepbank_raw/20003001')"
   ]
  },
  {
   "cell_type": "code",
   "execution_count": null,
   "metadata": {},
   "outputs": [],
   "source": [
    "deep.eds_text.split('\\n')"
   ]
  },
  {
   "cell_type": "code",
   "execution_count": null,
   "metadata": {},
   "outputs": [],
   "source": [
    "update_graph(deep.sentence, deep.eds, SemLinkAnnotation(sem3), get_verb_nodes(deep.eds))"
   ]
  },
  {
   "cell_type": "code",
   "execution_count": null,
   "metadata": {},
   "outputs": [],
   "source": [
    "semlinks = [line.rstrip() for line in open('1.2.2c.okay.txt','r')]"
   ]
  },
  {
   "cell_type": "code",
   "execution_count": null,
   "metadata": {},
   "outputs": [],
   "source": [
    "from annotation import *\n",
    "semlinks = [SemLinkAnnotation(x) for x in semlinks]"
   ]
  },
  {
   "cell_type": "code",
   "execution_count": null,
   "metadata": {},
   "outputs": [],
   "source": [
    "frame_set = {}"
   ]
  },
  {
   "cell_type": "code",
   "execution_count": null,
   "metadata": {},
   "outputs": [],
   "source": [
    "for x in semlinks:\n",
    "    if not (x.fn_frame in frame_set.keys()):\n",
    "        frame_set[x.fn_frame] = 1\n",
    "    else:\n",
    "        frame_set[x.fn_frame] += 1"
   ]
  },
  {
   "cell_type": "code",
   "execution_count": null,
   "metadata": {},
   "outputs": [],
   "source": [
    "len(frame_set)"
   ]
  },
  {
   "cell_type": "code",
   "execution_count": null,
   "metadata": {},
   "outputs": [],
   "source": [
    "print(frame_set)"
   ]
  },
  {
   "cell_type": "code",
   "execution_count": null,
   "metadata": {},
   "outputs": [],
   "source": [
    "role_set = {}"
   ]
  },
  {
   "cell_type": "code",
   "execution_count": null,
   "metadata": {},
   "outputs": [],
   "source": [
    "for x in semlinks:\n",
    "    target_dependencies = [y for y in x.dependencies if ';' in y.split('-')[-1]]\n",
    "    for dep in target_dependencies:\n",
    "        fn_role = dep.split(';')[-1]\n",
    "        if not(fn_role) in role_set.keys():\n",
    "            role_set[fn_role] = 1\n",
    "        else:\n",
    "            role_set[fn_role] += 1"
   ]
  },
  {
   "cell_type": "code",
   "execution_count": null,
   "metadata": {},
   "outputs": [],
   "source": [
    "len(role_set)"
   ]
  },
  {
   "cell_type": "code",
   "execution_count": null,
   "metadata": {},
   "outputs": [],
   "source": [
    "print(role_set)"
   ]
  },
  {
   "cell_type": "code",
   "execution_count": null,
   "metadata": {},
   "outputs": [],
   "source": [
    "role_set['New_leader']"
   ]
  },
  {
   "cell_type": "code",
   "execution_count": null,
   "metadata": {},
   "outputs": [],
   "source": [
    "with open('fn_frames.json','w') as f:\n",
    "    f.write(json.dumps(frame_set, indent=1))"
   ]
  },
  {
   "cell_type": "code",
   "execution_count": null,
   "metadata": {},
   "outputs": [],
   "source": [
    "names = [line.rstrip() for line in open('same_eds_ids.txt','r')]"
   ]
  },
  {
   "cell_type": "code",
   "execution_count": null,
   "metadata": {},
   "outputs": [],
   "source": [
    "with open('deepbank_projected/projected.json','r') as f:\n",
    "    data = json.load(f)"
   ]
  },
  {
   "cell_type": "code",
   "execution_count": null,
   "metadata": {},
   "outputs": [],
   "source": [
    "same_data = {}\n",
    "for x in names:\n",
    "    same_data[x] = data[x]\n",
    "with open('filtered_data.json','w') as f:\n",
    "    f.write(json.dumps(same_data, indent=1))"
   ]
  },
  {
   "cell_type": "code",
   "execution_count": null,
   "metadata": {},
   "outputs": [],
   "source": [
    "te.nodes"
   ]
  },
  {
   "cell_type": "code",
   "execution_count": null,
   "metadata": {},
   "outputs": [],
   "source": []
  }
 ],
 "metadata": {
  "kernelspec": {
   "display_name": "Python 3 (ipykernel)",
   "language": "python",
   "name": "python3"
  },
  "language_info": {
   "codemirror_mode": {
    "name": "ipython",
    "version": 3
   },
   "file_extension": ".py",
   "mimetype": "text/x-python",
   "name": "python",
   "nbconvert_exporter": "python",
   "pygments_lexer": "ipython3",
   "version": "3.8.0"
  },
  "vscode": {
   "interpreter": {
    "hash": "e3a5b34d199d32ac681692876dde0b10aa04634658ccfe4d881a5c9f22ae3dcc"
   }
  }
 },
 "nbformat": 4,
 "nbformat_minor": 2
}
